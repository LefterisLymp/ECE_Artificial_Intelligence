{
  "nbformat": 4,
  "nbformat_minor": 0,
  "metadata": {
    "colab": {
      "name": "TN2020-P2_final.ipynb",
      "provenance": [],
      "collapsed_sections": []
    },
    "kernelspec": {
      "display_name": "Python 3",
      "language": "python",
      "name": "python3"
    },
    "language_info": {
      "codemirror_mode": {
        "name": "ipython",
        "version": 3
      },
      "file_extension": ".py",
      "mimetype": "text/x-python",
      "name": "python",
      "nbconvert_exporter": "python",
      "pygments_lexer": "ipython3",
      "version": "3.7.6"
    },
    "widgets": {
      "application/vnd.jupyter.widget-state+json": {
        "5e5abaf560a2424abc57030022f9b485": {
          "model_module": "@jupyter-widgets/controls",
          "model_name": "HBoxModel",
          "state": {
            "_view_name": "HBoxView",
            "_dom_classes": [],
            "_model_name": "HBoxModel",
            "_view_module": "@jupyter-widgets/controls",
            "_model_module_version": "1.5.0",
            "_view_count": null,
            "_view_module_version": "1.5.0",
            "box_style": "",
            "layout": "IPY_MODEL_856bbfc09c6946b4a91efd71103e368b",
            "_model_module": "@jupyter-widgets/controls",
            "children": [
              "IPY_MODEL_8307f562598f44239684785614eaf020",
              "IPY_MODEL_2aae5aa892a04e8392eab8cadc45f820"
            ]
          }
        },
        "856bbfc09c6946b4a91efd71103e368b": {
          "model_module": "@jupyter-widgets/base",
          "model_name": "LayoutModel",
          "state": {
            "_view_name": "LayoutView",
            "grid_template_rows": null,
            "right": null,
            "justify_content": null,
            "_view_module": "@jupyter-widgets/base",
            "overflow": null,
            "_model_module_version": "1.2.0",
            "_view_count": null,
            "flex_flow": null,
            "width": null,
            "min_width": null,
            "border": null,
            "align_items": null,
            "bottom": null,
            "_model_module": "@jupyter-widgets/base",
            "top": null,
            "grid_column": null,
            "overflow_y": null,
            "overflow_x": null,
            "grid_auto_flow": null,
            "grid_area": null,
            "grid_template_columns": null,
            "flex": null,
            "_model_name": "LayoutModel",
            "justify_items": null,
            "grid_row": null,
            "max_height": null,
            "align_content": null,
            "visibility": null,
            "align_self": null,
            "height": null,
            "min_height": null,
            "padding": null,
            "grid_auto_rows": null,
            "grid_gap": null,
            "max_width": null,
            "order": null,
            "_view_module_version": "1.2.0",
            "grid_template_areas": null,
            "object_position": null,
            "object_fit": null,
            "grid_auto_columns": null,
            "margin": null,
            "display": null,
            "left": null
          }
        },
        "8307f562598f44239684785614eaf020": {
          "model_module": "@jupyter-widgets/controls",
          "model_name": "FloatProgressModel",
          "state": {
            "_view_name": "ProgressView",
            "style": "IPY_MODEL_487d7f380d9c4286aba3f42e24c5a45d",
            "_dom_classes": [],
            "description": "",
            "_model_name": "FloatProgressModel",
            "bar_style": "success",
            "max": 1,
            "_view_module": "@jupyter-widgets/controls",
            "_model_module_version": "1.5.0",
            "value": 1,
            "_view_count": null,
            "_view_module_version": "1.5.0",
            "orientation": "horizontal",
            "min": 0,
            "description_tooltip": null,
            "_model_module": "@jupyter-widgets/controls",
            "layout": "IPY_MODEL_ec7668fda6dd4a60862da160225ca63e"
          }
        },
        "2aae5aa892a04e8392eab8cadc45f820": {
          "model_module": "@jupyter-widgets/controls",
          "model_name": "HTMLModel",
          "state": {
            "_view_name": "HTMLView",
            "style": "IPY_MODEL_5aac545b99a14af39ed40f626a808c21",
            "_dom_classes": [],
            "description": "",
            "_model_name": "HTMLModel",
            "placeholder": "​",
            "_view_module": "@jupyter-widgets/controls",
            "_model_module_version": "1.5.0",
            "value": " 10/? [00:01&lt;00:00,  6.12it/s]",
            "_view_count": null,
            "_view_module_version": "1.5.0",
            "description_tooltip": null,
            "_model_module": "@jupyter-widgets/controls",
            "layout": "IPY_MODEL_671bd55f189e4cc1848d54e0e5338c77"
          }
        },
        "487d7f380d9c4286aba3f42e24c5a45d": {
          "model_module": "@jupyter-widgets/controls",
          "model_name": "ProgressStyleModel",
          "state": {
            "_view_name": "StyleView",
            "_model_name": "ProgressStyleModel",
            "description_width": "initial",
            "_view_module": "@jupyter-widgets/base",
            "_model_module_version": "1.5.0",
            "_view_count": null,
            "_view_module_version": "1.2.0",
            "bar_color": null,
            "_model_module": "@jupyter-widgets/controls"
          }
        },
        "ec7668fda6dd4a60862da160225ca63e": {
          "model_module": "@jupyter-widgets/base",
          "model_name": "LayoutModel",
          "state": {
            "_view_name": "LayoutView",
            "grid_template_rows": null,
            "right": null,
            "justify_content": null,
            "_view_module": "@jupyter-widgets/base",
            "overflow": null,
            "_model_module_version": "1.2.0",
            "_view_count": null,
            "flex_flow": null,
            "width": null,
            "min_width": null,
            "border": null,
            "align_items": null,
            "bottom": null,
            "_model_module": "@jupyter-widgets/base",
            "top": null,
            "grid_column": null,
            "overflow_y": null,
            "overflow_x": null,
            "grid_auto_flow": null,
            "grid_area": null,
            "grid_template_columns": null,
            "flex": null,
            "_model_name": "LayoutModel",
            "justify_items": null,
            "grid_row": null,
            "max_height": null,
            "align_content": null,
            "visibility": null,
            "align_self": null,
            "height": null,
            "min_height": null,
            "padding": null,
            "grid_auto_rows": null,
            "grid_gap": null,
            "max_width": null,
            "order": null,
            "_view_module_version": "1.2.0",
            "grid_template_areas": null,
            "object_position": null,
            "object_fit": null,
            "grid_auto_columns": null,
            "margin": null,
            "display": null,
            "left": null
          }
        },
        "5aac545b99a14af39ed40f626a808c21": {
          "model_module": "@jupyter-widgets/controls",
          "model_name": "DescriptionStyleModel",
          "state": {
            "_view_name": "StyleView",
            "_model_name": "DescriptionStyleModel",
            "description_width": "",
            "_view_module": "@jupyter-widgets/base",
            "_model_module_version": "1.5.0",
            "_view_count": null,
            "_view_module_version": "1.2.0",
            "_model_module": "@jupyter-widgets/controls"
          }
        },
        "671bd55f189e4cc1848d54e0e5338c77": {
          "model_module": "@jupyter-widgets/base",
          "model_name": "LayoutModel",
          "state": {
            "_view_name": "LayoutView",
            "grid_template_rows": null,
            "right": null,
            "justify_content": null,
            "_view_module": "@jupyter-widgets/base",
            "overflow": null,
            "_model_module_version": "1.2.0",
            "_view_count": null,
            "flex_flow": null,
            "width": null,
            "min_width": null,
            "border": null,
            "align_items": null,
            "bottom": null,
            "_model_module": "@jupyter-widgets/base",
            "top": null,
            "grid_column": null,
            "overflow_y": null,
            "overflow_x": null,
            "grid_auto_flow": null,
            "grid_area": null,
            "grid_template_columns": null,
            "flex": null,
            "_model_name": "LayoutModel",
            "justify_items": null,
            "grid_row": null,
            "max_height": null,
            "align_content": null,
            "visibility": null,
            "align_self": null,
            "height": null,
            "min_height": null,
            "padding": null,
            "grid_auto_rows": null,
            "grid_gap": null,
            "max_width": null,
            "order": null,
            "_view_module_version": "1.2.0",
            "grid_template_areas": null,
            "object_position": null,
            "object_fit": null,
            "grid_auto_columns": null,
            "margin": null,
            "display": null,
            "left": null
          }
        },
        "3bf15d9ddaf941dc861119457cc60e2f": {
          "model_module": "@jupyter-widgets/controls",
          "model_name": "HBoxModel",
          "state": {
            "_view_name": "HBoxView",
            "_dom_classes": [],
            "_model_name": "HBoxModel",
            "_view_module": "@jupyter-widgets/controls",
            "_model_module_version": "1.5.0",
            "_view_count": null,
            "_view_module_version": "1.5.0",
            "box_style": "",
            "layout": "IPY_MODEL_1ac5bc3ab00d4bcc8d0117e7d2b24705",
            "_model_module": "@jupyter-widgets/controls",
            "children": [
              "IPY_MODEL_fb0684dab79b4eac88fba907d43e8034",
              "IPY_MODEL_6da7878879ca4a039201ae55a68b9f7f"
            ]
          }
        },
        "1ac5bc3ab00d4bcc8d0117e7d2b24705": {
          "model_module": "@jupyter-widgets/base",
          "model_name": "LayoutModel",
          "state": {
            "_view_name": "LayoutView",
            "grid_template_rows": null,
            "right": null,
            "justify_content": null,
            "_view_module": "@jupyter-widgets/base",
            "overflow": null,
            "_model_module_version": "1.2.0",
            "_view_count": null,
            "flex_flow": null,
            "width": null,
            "min_width": null,
            "border": null,
            "align_items": null,
            "bottom": null,
            "_model_module": "@jupyter-widgets/base",
            "top": null,
            "grid_column": null,
            "overflow_y": null,
            "overflow_x": null,
            "grid_auto_flow": null,
            "grid_area": null,
            "grid_template_columns": null,
            "flex": null,
            "_model_name": "LayoutModel",
            "justify_items": null,
            "grid_row": null,
            "max_height": null,
            "align_content": null,
            "visibility": null,
            "align_self": null,
            "height": null,
            "min_height": null,
            "padding": null,
            "grid_auto_rows": null,
            "grid_gap": null,
            "max_width": null,
            "order": null,
            "_view_module_version": "1.2.0",
            "grid_template_areas": null,
            "object_position": null,
            "object_fit": null,
            "grid_auto_columns": null,
            "margin": null,
            "display": null,
            "left": null
          }
        },
        "fb0684dab79b4eac88fba907d43e8034": {
          "model_module": "@jupyter-widgets/controls",
          "model_name": "FloatProgressModel",
          "state": {
            "_view_name": "ProgressView",
            "style": "IPY_MODEL_c782032531114bc49d8ab2e3561a3da1",
            "_dom_classes": [],
            "description": "",
            "_model_name": "FloatProgressModel",
            "bar_style": "success",
            "max": 1,
            "_view_module": "@jupyter-widgets/controls",
            "_model_module_version": "1.5.0",
            "value": 1,
            "_view_count": null,
            "_view_module_version": "1.5.0",
            "orientation": "horizontal",
            "min": 0,
            "description_tooltip": null,
            "_model_module": "@jupyter-widgets/controls",
            "layout": "IPY_MODEL_3b03984722944342bf3f092a93bbcb91"
          }
        },
        "6da7878879ca4a039201ae55a68b9f7f": {
          "model_module": "@jupyter-widgets/controls",
          "model_name": "HTMLModel",
          "state": {
            "_view_name": "HTMLView",
            "style": "IPY_MODEL_1efde22eb6194c4b945a2764b2951fe3",
            "_dom_classes": [],
            "description": "",
            "_model_name": "HTMLModel",
            "placeholder": "​",
            "_view_module": "@jupyter-widgets/controls",
            "_model_module_version": "1.5.0",
            "value": " 10/? [00:01&lt;00:00,  5.82it/s]",
            "_view_count": null,
            "_view_module_version": "1.5.0",
            "description_tooltip": null,
            "_model_module": "@jupyter-widgets/controls",
            "layout": "IPY_MODEL_439386f4dceb41b7aff2849f0f51d7ea"
          }
        },
        "c782032531114bc49d8ab2e3561a3da1": {
          "model_module": "@jupyter-widgets/controls",
          "model_name": "ProgressStyleModel",
          "state": {
            "_view_name": "StyleView",
            "_model_name": "ProgressStyleModel",
            "description_width": "initial",
            "_view_module": "@jupyter-widgets/base",
            "_model_module_version": "1.5.0",
            "_view_count": null,
            "_view_module_version": "1.2.0",
            "bar_color": null,
            "_model_module": "@jupyter-widgets/controls"
          }
        },
        "3b03984722944342bf3f092a93bbcb91": {
          "model_module": "@jupyter-widgets/base",
          "model_name": "LayoutModel",
          "state": {
            "_view_name": "LayoutView",
            "grid_template_rows": null,
            "right": null,
            "justify_content": null,
            "_view_module": "@jupyter-widgets/base",
            "overflow": null,
            "_model_module_version": "1.2.0",
            "_view_count": null,
            "flex_flow": null,
            "width": null,
            "min_width": null,
            "border": null,
            "align_items": null,
            "bottom": null,
            "_model_module": "@jupyter-widgets/base",
            "top": null,
            "grid_column": null,
            "overflow_y": null,
            "overflow_x": null,
            "grid_auto_flow": null,
            "grid_area": null,
            "grid_template_columns": null,
            "flex": null,
            "_model_name": "LayoutModel",
            "justify_items": null,
            "grid_row": null,
            "max_height": null,
            "align_content": null,
            "visibility": null,
            "align_self": null,
            "height": null,
            "min_height": null,
            "padding": null,
            "grid_auto_rows": null,
            "grid_gap": null,
            "max_width": null,
            "order": null,
            "_view_module_version": "1.2.0",
            "grid_template_areas": null,
            "object_position": null,
            "object_fit": null,
            "grid_auto_columns": null,
            "margin": null,
            "display": null,
            "left": null
          }
        },
        "1efde22eb6194c4b945a2764b2951fe3": {
          "model_module": "@jupyter-widgets/controls",
          "model_name": "DescriptionStyleModel",
          "state": {
            "_view_name": "StyleView",
            "_model_name": "DescriptionStyleModel",
            "description_width": "",
            "_view_module": "@jupyter-widgets/base",
            "_model_module_version": "1.5.0",
            "_view_count": null,
            "_view_module_version": "1.2.0",
            "_model_module": "@jupyter-widgets/controls"
          }
        },
        "439386f4dceb41b7aff2849f0f51d7ea": {
          "model_module": "@jupyter-widgets/base",
          "model_name": "LayoutModel",
          "state": {
            "_view_name": "LayoutView",
            "grid_template_rows": null,
            "right": null,
            "justify_content": null,
            "_view_module": "@jupyter-widgets/base",
            "overflow": null,
            "_model_module_version": "1.2.0",
            "_view_count": null,
            "flex_flow": null,
            "width": null,
            "min_width": null,
            "border": null,
            "align_items": null,
            "bottom": null,
            "_model_module": "@jupyter-widgets/base",
            "top": null,
            "grid_column": null,
            "overflow_y": null,
            "overflow_x": null,
            "grid_auto_flow": null,
            "grid_area": null,
            "grid_template_columns": null,
            "flex": null,
            "_model_name": "LayoutModel",
            "justify_items": null,
            "grid_row": null,
            "max_height": null,
            "align_content": null,
            "visibility": null,
            "align_self": null,
            "height": null,
            "min_height": null,
            "padding": null,
            "grid_auto_rows": null,
            "grid_gap": null,
            "max_width": null,
            "order": null,
            "_view_module_version": "1.2.0",
            "grid_template_areas": null,
            "object_position": null,
            "object_fit": null,
            "grid_auto_columns": null,
            "margin": null,
            "display": null,
            "left": null
          }
        },
        "86ff06c4d5c0437c84e3c8ba25133f7a": {
          "model_module": "@jupyter-widgets/controls",
          "model_name": "HBoxModel",
          "state": {
            "_view_name": "HBoxView",
            "_dom_classes": [],
            "_model_name": "HBoxModel",
            "_view_module": "@jupyter-widgets/controls",
            "_model_module_version": "1.5.0",
            "_view_count": null,
            "_view_module_version": "1.5.0",
            "box_style": "",
            "layout": "IPY_MODEL_3b6b7c4ce59d4fa89615a46405020b98",
            "_model_module": "@jupyter-widgets/controls",
            "children": [
              "IPY_MODEL_cf6cbeffff9c425c95dd9c779fcf554a",
              "IPY_MODEL_0e9a6a44b6fb4ed88f0032e8dbd4e976"
            ]
          }
        },
        "3b6b7c4ce59d4fa89615a46405020b98": {
          "model_module": "@jupyter-widgets/base",
          "model_name": "LayoutModel",
          "state": {
            "_view_name": "LayoutView",
            "grid_template_rows": null,
            "right": null,
            "justify_content": null,
            "_view_module": "@jupyter-widgets/base",
            "overflow": null,
            "_model_module_version": "1.2.0",
            "_view_count": null,
            "flex_flow": null,
            "width": null,
            "min_width": null,
            "border": null,
            "align_items": null,
            "bottom": null,
            "_model_module": "@jupyter-widgets/base",
            "top": null,
            "grid_column": null,
            "overflow_y": null,
            "overflow_x": null,
            "grid_auto_flow": null,
            "grid_area": null,
            "grid_template_columns": null,
            "flex": null,
            "_model_name": "LayoutModel",
            "justify_items": null,
            "grid_row": null,
            "max_height": null,
            "align_content": null,
            "visibility": null,
            "align_self": null,
            "height": null,
            "min_height": null,
            "padding": null,
            "grid_auto_rows": null,
            "grid_gap": null,
            "max_width": null,
            "order": null,
            "_view_module_version": "1.2.0",
            "grid_template_areas": null,
            "object_position": null,
            "object_fit": null,
            "grid_auto_columns": null,
            "margin": null,
            "display": null,
            "left": null
          }
        },
        "cf6cbeffff9c425c95dd9c779fcf554a": {
          "model_module": "@jupyter-widgets/controls",
          "model_name": "FloatProgressModel",
          "state": {
            "_view_name": "ProgressView",
            "style": "IPY_MODEL_16d3bf46e37b4e77a6e733066c87fd9f",
            "_dom_classes": [],
            "description": "",
            "_model_name": "FloatProgressModel",
            "bar_style": "success",
            "max": 1,
            "_view_module": "@jupyter-widgets/controls",
            "_model_module_version": "1.5.0",
            "value": 1,
            "_view_count": null,
            "_view_module_version": "1.5.0",
            "orientation": "horizontal",
            "min": 0,
            "description_tooltip": null,
            "_model_module": "@jupyter-widgets/controls",
            "layout": "IPY_MODEL_6d9799d5460f4674ac0d5b939d0ebba4"
          }
        },
        "0e9a6a44b6fb4ed88f0032e8dbd4e976": {
          "model_module": "@jupyter-widgets/controls",
          "model_name": "HTMLModel",
          "state": {
            "_view_name": "HTMLView",
            "style": "IPY_MODEL_8ccdb9524c544b75a1dbf41e98448860",
            "_dom_classes": [],
            "description": "",
            "_model_name": "HTMLModel",
            "placeholder": "​",
            "_view_module": "@jupyter-widgets/controls",
            "_model_module_version": "1.5.0",
            "value": " 10/? [00:02&lt;00:00,  4.36it/s]",
            "_view_count": null,
            "_view_module_version": "1.5.0",
            "description_tooltip": null,
            "_model_module": "@jupyter-widgets/controls",
            "layout": "IPY_MODEL_2809a111af5340b7badc494c56dc7ead"
          }
        },
        "16d3bf46e37b4e77a6e733066c87fd9f": {
          "model_module": "@jupyter-widgets/controls",
          "model_name": "ProgressStyleModel",
          "state": {
            "_view_name": "StyleView",
            "_model_name": "ProgressStyleModel",
            "description_width": "initial",
            "_view_module": "@jupyter-widgets/base",
            "_model_module_version": "1.5.0",
            "_view_count": null,
            "_view_module_version": "1.2.0",
            "bar_color": null,
            "_model_module": "@jupyter-widgets/controls"
          }
        },
        "6d9799d5460f4674ac0d5b939d0ebba4": {
          "model_module": "@jupyter-widgets/base",
          "model_name": "LayoutModel",
          "state": {
            "_view_name": "LayoutView",
            "grid_template_rows": null,
            "right": null,
            "justify_content": null,
            "_view_module": "@jupyter-widgets/base",
            "overflow": null,
            "_model_module_version": "1.2.0",
            "_view_count": null,
            "flex_flow": null,
            "width": null,
            "min_width": null,
            "border": null,
            "align_items": null,
            "bottom": null,
            "_model_module": "@jupyter-widgets/base",
            "top": null,
            "grid_column": null,
            "overflow_y": null,
            "overflow_x": null,
            "grid_auto_flow": null,
            "grid_area": null,
            "grid_template_columns": null,
            "flex": null,
            "_model_name": "LayoutModel",
            "justify_items": null,
            "grid_row": null,
            "max_height": null,
            "align_content": null,
            "visibility": null,
            "align_self": null,
            "height": null,
            "min_height": null,
            "padding": null,
            "grid_auto_rows": null,
            "grid_gap": null,
            "max_width": null,
            "order": null,
            "_view_module_version": "1.2.0",
            "grid_template_areas": null,
            "object_position": null,
            "object_fit": null,
            "grid_auto_columns": null,
            "margin": null,
            "display": null,
            "left": null
          }
        },
        "8ccdb9524c544b75a1dbf41e98448860": {
          "model_module": "@jupyter-widgets/controls",
          "model_name": "DescriptionStyleModel",
          "state": {
            "_view_name": "StyleView",
            "_model_name": "DescriptionStyleModel",
            "description_width": "",
            "_view_module": "@jupyter-widgets/base",
            "_model_module_version": "1.5.0",
            "_view_count": null,
            "_view_module_version": "1.2.0",
            "_model_module": "@jupyter-widgets/controls"
          }
        },
        "2809a111af5340b7badc494c56dc7ead": {
          "model_module": "@jupyter-widgets/base",
          "model_name": "LayoutModel",
          "state": {
            "_view_name": "LayoutView",
            "grid_template_rows": null,
            "right": null,
            "justify_content": null,
            "_view_module": "@jupyter-widgets/base",
            "overflow": null,
            "_model_module_version": "1.2.0",
            "_view_count": null,
            "flex_flow": null,
            "width": null,
            "min_width": null,
            "border": null,
            "align_items": null,
            "bottom": null,
            "_model_module": "@jupyter-widgets/base",
            "top": null,
            "grid_column": null,
            "overflow_y": null,
            "overflow_x": null,
            "grid_auto_flow": null,
            "grid_area": null,
            "grid_template_columns": null,
            "flex": null,
            "_model_name": "LayoutModel",
            "justify_items": null,
            "grid_row": null,
            "max_height": null,
            "align_content": null,
            "visibility": null,
            "align_self": null,
            "height": null,
            "min_height": null,
            "padding": null,
            "grid_auto_rows": null,
            "grid_gap": null,
            "max_width": null,
            "order": null,
            "_view_module_version": "1.2.0",
            "grid_template_areas": null,
            "object_position": null,
            "object_fit": null,
            "grid_auto_columns": null,
            "margin": null,
            "display": null,
            "left": null
          }
        },
        "de50f8001cef4065bac9f1ba0af920f8": {
          "model_module": "@jupyter-widgets/controls",
          "model_name": "HBoxModel",
          "state": {
            "_view_name": "HBoxView",
            "_dom_classes": [],
            "_model_name": "HBoxModel",
            "_view_module": "@jupyter-widgets/controls",
            "_model_module_version": "1.5.0",
            "_view_count": null,
            "_view_module_version": "1.5.0",
            "box_style": "",
            "layout": "IPY_MODEL_0df9a71f34d848b2a06343aba1ca6740",
            "_model_module": "@jupyter-widgets/controls",
            "children": [
              "IPY_MODEL_a61984e4ae7b4419b3d4c195f1abeaee",
              "IPY_MODEL_e5661b4c3f6c4071a069955f7567725f"
            ]
          }
        },
        "0df9a71f34d848b2a06343aba1ca6740": {
          "model_module": "@jupyter-widgets/base",
          "model_name": "LayoutModel",
          "state": {
            "_view_name": "LayoutView",
            "grid_template_rows": null,
            "right": null,
            "justify_content": null,
            "_view_module": "@jupyter-widgets/base",
            "overflow": null,
            "_model_module_version": "1.2.0",
            "_view_count": null,
            "flex_flow": null,
            "width": null,
            "min_width": null,
            "border": null,
            "align_items": null,
            "bottom": null,
            "_model_module": "@jupyter-widgets/base",
            "top": null,
            "grid_column": null,
            "overflow_y": null,
            "overflow_x": null,
            "grid_auto_flow": null,
            "grid_area": null,
            "grid_template_columns": null,
            "flex": null,
            "_model_name": "LayoutModel",
            "justify_items": null,
            "grid_row": null,
            "max_height": null,
            "align_content": null,
            "visibility": null,
            "align_self": null,
            "height": null,
            "min_height": null,
            "padding": null,
            "grid_auto_rows": null,
            "grid_gap": null,
            "max_width": null,
            "order": null,
            "_view_module_version": "1.2.0",
            "grid_template_areas": null,
            "object_position": null,
            "object_fit": null,
            "grid_auto_columns": null,
            "margin": null,
            "display": null,
            "left": null
          }
        },
        "a61984e4ae7b4419b3d4c195f1abeaee": {
          "model_module": "@jupyter-widgets/controls",
          "model_name": "FloatProgressModel",
          "state": {
            "_view_name": "ProgressView",
            "style": "IPY_MODEL_c2b98cb54f40403b81c390d7d898fb6a",
            "_dom_classes": [],
            "description": "",
            "_model_name": "FloatProgressModel",
            "bar_style": "success",
            "max": 1,
            "_view_module": "@jupyter-widgets/controls",
            "_model_module_version": "1.5.0",
            "value": 1,
            "_view_count": null,
            "_view_module_version": "1.5.0",
            "orientation": "horizontal",
            "min": 0,
            "description_tooltip": null,
            "_model_module": "@jupyter-widgets/controls",
            "layout": "IPY_MODEL_1e4cb703ab9f43f58481f66fe8e0e5be"
          }
        },
        "e5661b4c3f6c4071a069955f7567725f": {
          "model_module": "@jupyter-widgets/controls",
          "model_name": "HTMLModel",
          "state": {
            "_view_name": "HTMLView",
            "style": "IPY_MODEL_789e871748534224bf2240162143099f",
            "_dom_classes": [],
            "description": "",
            "_model_name": "HTMLModel",
            "placeholder": "​",
            "_view_module": "@jupyter-widgets/controls",
            "_model_module_version": "1.5.0",
            "value": " 45/? [00:06&lt;00:00,  7.22it/s]",
            "_view_count": null,
            "_view_module_version": "1.5.0",
            "description_tooltip": null,
            "_model_module": "@jupyter-widgets/controls",
            "layout": "IPY_MODEL_d911253253fa44f3a4ffe8c2f67f56f3"
          }
        },
        "c2b98cb54f40403b81c390d7d898fb6a": {
          "model_module": "@jupyter-widgets/controls",
          "model_name": "ProgressStyleModel",
          "state": {
            "_view_name": "StyleView",
            "_model_name": "ProgressStyleModel",
            "description_width": "initial",
            "_view_module": "@jupyter-widgets/base",
            "_model_module_version": "1.5.0",
            "_view_count": null,
            "_view_module_version": "1.2.0",
            "bar_color": null,
            "_model_module": "@jupyter-widgets/controls"
          }
        },
        "1e4cb703ab9f43f58481f66fe8e0e5be": {
          "model_module": "@jupyter-widgets/base",
          "model_name": "LayoutModel",
          "state": {
            "_view_name": "LayoutView",
            "grid_template_rows": null,
            "right": null,
            "justify_content": null,
            "_view_module": "@jupyter-widgets/base",
            "overflow": null,
            "_model_module_version": "1.2.0",
            "_view_count": null,
            "flex_flow": null,
            "width": null,
            "min_width": null,
            "border": null,
            "align_items": null,
            "bottom": null,
            "_model_module": "@jupyter-widgets/base",
            "top": null,
            "grid_column": null,
            "overflow_y": null,
            "overflow_x": null,
            "grid_auto_flow": null,
            "grid_area": null,
            "grid_template_columns": null,
            "flex": null,
            "_model_name": "LayoutModel",
            "justify_items": null,
            "grid_row": null,
            "max_height": null,
            "align_content": null,
            "visibility": null,
            "align_self": null,
            "height": null,
            "min_height": null,
            "padding": null,
            "grid_auto_rows": null,
            "grid_gap": null,
            "max_width": null,
            "order": null,
            "_view_module_version": "1.2.0",
            "grid_template_areas": null,
            "object_position": null,
            "object_fit": null,
            "grid_auto_columns": null,
            "margin": null,
            "display": null,
            "left": null
          }
        },
        "789e871748534224bf2240162143099f": {
          "model_module": "@jupyter-widgets/controls",
          "model_name": "DescriptionStyleModel",
          "state": {
            "_view_name": "StyleView",
            "_model_name": "DescriptionStyleModel",
            "description_width": "",
            "_view_module": "@jupyter-widgets/base",
            "_model_module_version": "1.5.0",
            "_view_count": null,
            "_view_module_version": "1.2.0",
            "_model_module": "@jupyter-widgets/controls"
          }
        },
        "d911253253fa44f3a4ffe8c2f67f56f3": {
          "model_module": "@jupyter-widgets/base",
          "model_name": "LayoutModel",
          "state": {
            "_view_name": "LayoutView",
            "grid_template_rows": null,
            "right": null,
            "justify_content": null,
            "_view_module": "@jupyter-widgets/base",
            "overflow": null,
            "_model_module_version": "1.2.0",
            "_view_count": null,
            "flex_flow": null,
            "width": null,
            "min_width": null,
            "border": null,
            "align_items": null,
            "bottom": null,
            "_model_module": "@jupyter-widgets/base",
            "top": null,
            "grid_column": null,
            "overflow_y": null,
            "overflow_x": null,
            "grid_auto_flow": null,
            "grid_area": null,
            "grid_template_columns": null,
            "flex": null,
            "_model_name": "LayoutModel",
            "justify_items": null,
            "grid_row": null,
            "max_height": null,
            "align_content": null,
            "visibility": null,
            "align_self": null,
            "height": null,
            "min_height": null,
            "padding": null,
            "grid_auto_rows": null,
            "grid_gap": null,
            "max_width": null,
            "order": null,
            "_view_module_version": "1.2.0",
            "grid_template_areas": null,
            "object_position": null,
            "object_fit": null,
            "grid_auto_columns": null,
            "margin": null,
            "display": null,
            "left": null
          }
        },
        "33866641685b471b84d35a8eb0f1b2a7": {
          "model_module": "@jupyter-widgets/controls",
          "model_name": "HBoxModel",
          "state": {
            "_view_name": "HBoxView",
            "_dom_classes": [],
            "_model_name": "HBoxModel",
            "_view_module": "@jupyter-widgets/controls",
            "_model_module_version": "1.5.0",
            "_view_count": null,
            "_view_module_version": "1.5.0",
            "box_style": "",
            "layout": "IPY_MODEL_25ca6e85c10f4bef816245d595081f2b",
            "_model_module": "@jupyter-widgets/controls",
            "children": [
              "IPY_MODEL_b4a7db9fc4a74fbeb19d5b5f98e4429a",
              "IPY_MODEL_8c90da8e7f90451091156ae558146a57"
            ]
          }
        },
        "25ca6e85c10f4bef816245d595081f2b": {
          "model_module": "@jupyter-widgets/base",
          "model_name": "LayoutModel",
          "state": {
            "_view_name": "LayoutView",
            "grid_template_rows": null,
            "right": null,
            "justify_content": null,
            "_view_module": "@jupyter-widgets/base",
            "overflow": null,
            "_model_module_version": "1.2.0",
            "_view_count": null,
            "flex_flow": null,
            "width": null,
            "min_width": null,
            "border": null,
            "align_items": null,
            "bottom": null,
            "_model_module": "@jupyter-widgets/base",
            "top": null,
            "grid_column": null,
            "overflow_y": null,
            "overflow_x": null,
            "grid_auto_flow": null,
            "grid_area": null,
            "grid_template_columns": null,
            "flex": null,
            "_model_name": "LayoutModel",
            "justify_items": null,
            "grid_row": null,
            "max_height": null,
            "align_content": null,
            "visibility": null,
            "align_self": null,
            "height": null,
            "min_height": null,
            "padding": null,
            "grid_auto_rows": null,
            "grid_gap": null,
            "max_width": null,
            "order": null,
            "_view_module_version": "1.2.0",
            "grid_template_areas": null,
            "object_position": null,
            "object_fit": null,
            "grid_auto_columns": null,
            "margin": null,
            "display": null,
            "left": null
          }
        },
        "b4a7db9fc4a74fbeb19d5b5f98e4429a": {
          "model_module": "@jupyter-widgets/controls",
          "model_name": "FloatProgressModel",
          "state": {
            "_view_name": "ProgressView",
            "style": "IPY_MODEL_d5d41d9e64764daba85749100c85b063",
            "_dom_classes": [],
            "description": "",
            "_model_name": "FloatProgressModel",
            "bar_style": "success",
            "max": 1,
            "_view_module": "@jupyter-widgets/controls",
            "_model_module_version": "1.5.0",
            "value": 1,
            "_view_count": null,
            "_view_module_version": "1.5.0",
            "orientation": "horizontal",
            "min": 0,
            "description_tooltip": null,
            "_model_module": "@jupyter-widgets/controls",
            "layout": "IPY_MODEL_6ad5430a33a043a1b47e3dd9d4cbbfe0"
          }
        },
        "8c90da8e7f90451091156ae558146a57": {
          "model_module": "@jupyter-widgets/controls",
          "model_name": "HTMLModel",
          "state": {
            "_view_name": "HTMLView",
            "style": "IPY_MODEL_f5c11304e80146b189331564f626dbe6",
            "_dom_classes": [],
            "description": "",
            "_model_name": "HTMLModel",
            "placeholder": "​",
            "_view_module": "@jupyter-widgets/controls",
            "_model_module_version": "1.5.0",
            "value": " 25/? [00:03&lt;00:00,  6.92it/s]",
            "_view_count": null,
            "_view_module_version": "1.5.0",
            "description_tooltip": null,
            "_model_module": "@jupyter-widgets/controls",
            "layout": "IPY_MODEL_a145c4085412436ab24373646073ed7b"
          }
        },
        "d5d41d9e64764daba85749100c85b063": {
          "model_module": "@jupyter-widgets/controls",
          "model_name": "ProgressStyleModel",
          "state": {
            "_view_name": "StyleView",
            "_model_name": "ProgressStyleModel",
            "description_width": "initial",
            "_view_module": "@jupyter-widgets/base",
            "_model_module_version": "1.5.0",
            "_view_count": null,
            "_view_module_version": "1.2.0",
            "bar_color": null,
            "_model_module": "@jupyter-widgets/controls"
          }
        },
        "6ad5430a33a043a1b47e3dd9d4cbbfe0": {
          "model_module": "@jupyter-widgets/base",
          "model_name": "LayoutModel",
          "state": {
            "_view_name": "LayoutView",
            "grid_template_rows": null,
            "right": null,
            "justify_content": null,
            "_view_module": "@jupyter-widgets/base",
            "overflow": null,
            "_model_module_version": "1.2.0",
            "_view_count": null,
            "flex_flow": null,
            "width": null,
            "min_width": null,
            "border": null,
            "align_items": null,
            "bottom": null,
            "_model_module": "@jupyter-widgets/base",
            "top": null,
            "grid_column": null,
            "overflow_y": null,
            "overflow_x": null,
            "grid_auto_flow": null,
            "grid_area": null,
            "grid_template_columns": null,
            "flex": null,
            "_model_name": "LayoutModel",
            "justify_items": null,
            "grid_row": null,
            "max_height": null,
            "align_content": null,
            "visibility": null,
            "align_self": null,
            "height": null,
            "min_height": null,
            "padding": null,
            "grid_auto_rows": null,
            "grid_gap": null,
            "max_width": null,
            "order": null,
            "_view_module_version": "1.2.0",
            "grid_template_areas": null,
            "object_position": null,
            "object_fit": null,
            "grid_auto_columns": null,
            "margin": null,
            "display": null,
            "left": null
          }
        },
        "f5c11304e80146b189331564f626dbe6": {
          "model_module": "@jupyter-widgets/controls",
          "model_name": "DescriptionStyleModel",
          "state": {
            "_view_name": "StyleView",
            "_model_name": "DescriptionStyleModel",
            "description_width": "",
            "_view_module": "@jupyter-widgets/base",
            "_model_module_version": "1.5.0",
            "_view_count": null,
            "_view_module_version": "1.2.0",
            "_model_module": "@jupyter-widgets/controls"
          }
        },
        "a145c4085412436ab24373646073ed7b": {
          "model_module": "@jupyter-widgets/base",
          "model_name": "LayoutModel",
          "state": {
            "_view_name": "LayoutView",
            "grid_template_rows": null,
            "right": null,
            "justify_content": null,
            "_view_module": "@jupyter-widgets/base",
            "overflow": null,
            "_model_module_version": "1.2.0",
            "_view_count": null,
            "flex_flow": null,
            "width": null,
            "min_width": null,
            "border": null,
            "align_items": null,
            "bottom": null,
            "_model_module": "@jupyter-widgets/base",
            "top": null,
            "grid_column": null,
            "overflow_y": null,
            "overflow_x": null,
            "grid_auto_flow": null,
            "grid_area": null,
            "grid_template_columns": null,
            "flex": null,
            "_model_name": "LayoutModel",
            "justify_items": null,
            "grid_row": null,
            "max_height": null,
            "align_content": null,
            "visibility": null,
            "align_self": null,
            "height": null,
            "min_height": null,
            "padding": null,
            "grid_auto_rows": null,
            "grid_gap": null,
            "max_width": null,
            "order": null,
            "_view_module_version": "1.2.0",
            "grid_template_areas": null,
            "object_position": null,
            "object_fit": null,
            "grid_auto_columns": null,
            "margin": null,
            "display": null,
            "left": null
          }
        }
      }
    }
  },
  "cells": [
    {
      "cell_type": "markdown",
      "metadata": {
        "id": "YNwhI6744rUa"
      },
      "source": [
        "# Τεχνητή Νοημοσύνη: Εργαστηριακή Άσκηση 2\n",
        "---\n",
        "\n",
        "Ο στόχος της εργασίας είναι η κατασκευή ενός συστήματος προτάσεων (Recommendation System) για ταινίες. Οι προτάσεις αυτές θα πηγάζουν τόσο από τα χαρακτηριστικά της ταινίας όσο και από ορισμένες αξιολογήσεις του κάθε χρήστη.\n",
        "\n",
        "Στα δεδομένα της άσκησης περιλαμβάνονται ένα αρχείο με το όνομα movies_metadata.csv το όποιο περιέχει τα χαρακτηριστικά κάθε ταινίας όπως θέμα, σκηνοθέτης ηθοποιοί, λέξεις κλειδιά κ.α. από το imdb καθώς και τα αρχεία ratings.csv τα όποια περιέχουν πραγματικές αξιολογήσεις χρηστών, χωρισμένες σε train και σε test.\n"
      ]
    },
    {
      "cell_type": "markdown",
      "metadata": {
        "id": "021xhsuy4rUa"
      },
      "source": [
        "# Εκφώνηση\n",
        "Στην παρούσα εργασία σας ζητείται να μελετήσετε και να υλοποιήσετε τα παρακάτω:<br>\n",
        "\n",
        "### Μέρος 1\n",
        "Στο μέρος 1 και 2 θα ασχοληθείτε και θα εργαστείτε μόνο με το αρχείο movies_metadata.csv.\n",
        "#### Ερώτημα 1α\n",
        "\n",
        "Αρχικά θα πρέπει, αφού μελετήσετε τη δομή και τα χαρακτηριστικά του αρχείου αυτού, να κατασκευάσετε μια βάση γνώσης για την Prolog η όποια ουσιαστικά θα αποτελεί τον κόσμο με τον όποιο θα εργαστείτε στην συνέχεια. Τα κατηγορήματα που θα δημιουργηθούν θα σας βοηθήσουν και στην κατασκευή του recommender και θα είναι της μορφής:\n",
        "\n",
        "```\n",
        "director(Movie, Director).\n",
        "genre(Movie, Genre).\n",
        "```\n",
        "#### Ερώτημα 1β\n",
        "\n",
        "Αφού δημιουργήσετε τον κόσμο του προβλήματος, στη συνέχεια καλείστε να δημιουργήσετε, σε Prolog, απλούς κανόνες οι οποίοι θα βρίσκουν όλες τις ταινίες με:\n",
        "1.\tΚοινό θέμα (κάποιες λέξεις σχετικά με το genre κοινές)\n",
        "2.\tΑρκετά κοινό θέμα (κάποιες λιγότερες λέξεις σχετικά με το genre κοινές π.χ. 3)\n",
        "3.\tΣχετικά κοινό θέμα (λίγες λέξεις σχετικές με το genre κοινές π.χ. 1)\n",
        "4.\tΚοινός σκηνοθέτης\n",
        "5.\tΑκριβώς ίδια πλοκή (κάποιες λέξεις κλειδιά της πλοκής κοινές)\n",
        "6.\tΣχετικά ίδια πλοκή (κάποιες λιγότερες λέξεις κλειδιά κοινές)\n",
        "7.\tΊδιους τους βασικούς ηθοποιούς (και τους 3)\n",
        "8.\tΑρκετά ίδιους βασικούς ηθοποιούς (ορισμένους βασικούς ηθοποιούς κοινούς π.χ. 2)\n",
        "9.\tΣχετικά ίδιους ηθοποιούς (π.χ. 1 από τους 3)\n",
        "10.\tΊδια γλώσσα\n",
        "11.\tΕίναι έγχρωμες ή ασπρόμαυρες\n",
        "\n",
        "Αξίζει να σημειωθεί ότι στα παραπάνω μπορείτε να προσθέσετε περισσότερα ερωτήματα ή να αλλάξετε την κλιμακωσιμότητα των queries (πέρα από το ίδιο, αρκετά ίδιο, σχετικά ίδιο) που θα κατασκευάσετε(π.χ. μια κλίμακα από 1 στα 5 όπου αυτό είναι δυνατόν), μιας και αυτά στην συνέχεια θα χρησιμοποιηθούν για την λειτουργία του recommender. Έτσι μπορείτε να προσθέσετε queries με τα όποια μπορεί να παράγονται καλύτερες συστάσεις  (το αρχείο movie_metadata.csv περιέχει πολλές πληροφορίες ακόμα για κάθε ταινία όπως έτος κυκλοφορίας, βαθμολογία στο imdb, facebοok_likes κ.α.).\n",
        "\n",
        "Περισσότερες πληροφορίες για το dataset μπορείτε να διαβάσετε σε αυτό το [Link](https://www.kaggle.com/georgefila/movies-metadata):\n",
        "### Μέρος 2: Recommendation System\n",
        "Στο σημείο αυτό καλείστε με βάση αυτά που κάνατε στο μέρος 1 να κατασκευάσετε queries τα όποια θα σας επιστρέφουν παρόμοιες (σε χαρακτηριστικά) ταινίες. Τα ερωτήματα αυτά θα είναι κλιμακούμενα, δηλαδή θα υπάρχουν ερωτήματα που επιστρέφουν αρκετά κοινές ταινίες αλλά και που επιστρέφουν λιγότερο και λιγότερο κοινές (σε μια κλίμακα π.χ. από 1 σε 5). Για παράδειγμα:\n",
        "\n",
        "```\n",
        "find_simmilar_movies_5(\"Pirates Of The Caribbean\", M).\n",
        "M = \"Pirates Of The Caribbean: On Stranger Tides\"\n",
        "M = \"The Chronicles Of Narnia\"\n",
        "M = \"Prince Of Persia: The Sands Of Time\"\n",
        "...\n",
        "```\n",
        "Για παράδειγμα, το παραπάνω ερώτημα θα επιστρέφει αρκετά κοινές σε περιεχόμενο ταινίες με την ταινια \"Pirates Of The Caribbean\". Θα υπάρχουν και αντίστοιχα ερωτήματα που θα βρίσκουν λιγότερο όμοιες ταινίες. Ο δείκτης ομοιότητας των ταινιών είναι αυθαίρετος και μπορείτε να τον ορίσετε εσείς όπως θέλετε, αρκεί να υπάρχει κάποια λογική σύνδεση με τα δεδομένα που περιέχονται στο αρχείο movies_metadata.csv. \n",
        "\n",
        "Συνεπώς η συνάρτηση που θα κάνει τις προτάσεις (recommendation) με είσοδο μια ταινία πρέπει να επιστρέφει-εκτυπώνει μια λίστα με τις προτεινόμενες ταινίες κατά φθίνουσα σειρά ομοιότητας. \n",
        "\n",
        "\n",
        "###3ο Μέρος: Recommendation System Με βάση τις προτιμήσεις - Αξιολογήσεις του χρήστη\n",
        "\n",
        "\n",
        "Σε αυτό το σημείο θα εργαστείτε με τα αρχεία ratings τα όποια περιέχουν αξιολογήσεις (από 1 μέχρι 5) για τις παραπάνω ταινίες. Το προηγούμενο σύστημα συστάσεων προτείνει στον χρήστη ταινίες αποκλειστικά με βάση την ομοιότητά τους. Σε αυτό το σημείο θα γίνει μια αναβάθμιση του συστήματος έτσι ώστε να παράγονται καλύτερες  συστάσεις οι όποιες θα λαμβάνουν υπόψιν και τις προτιμήσεις του χρήστη, οι όποιες θα εξάγονται από τις αξιολογήσεις που έχει κάνει μέχρι στιγμής. \n",
        "\n",
        "Η εκπαίδευση του recommender θα γίνεται ως εξής:\n",
        "\n",
        "Για κάθε ταινία θα υπάρχει ένα score το όποιο αρχικά θε είναι ίσο με 0 και θα διαμορφώνεται από τις αξιολογήσεις κάθε user. Έτσι για έναν χρήστη με βάση τις αξιολογήσεις που υπάρχουν στο αρχείο train_ratings θα πρέπει:\n",
        "\n",
        "1.\tΓια κάθε ταινία που έχει βαθμολογήσει να βρίσκονται οι κοινές ταινίες ανά κλίμακα και στο μέχρι τώρα σκορ κάθε παρόμοιας ταινίας θα προστίθεται ένα βάρος το όποιο θα μπορούσε να είναι το ποσοστό ομοιότητας της ταινίας (δηλαδή ένα βάρος για κάθε κλίμακα) επί τον βαθμό που έχει βάλει ο χρήστης για την αρχική ταινία. Στη συνέχεια, ανάλογα με το σκορ που έχει σχηματιστεί για κάθε ταινία, θα επιλέγεται αν αυτή θα μπορούσε να είναι προτεινόμενη για τον χρήστη.\n",
        "\n",
        "Η λογική πίσω από την παραπάνω διαδικασία είναι ότι παρόμοιες ταινίες θα έχουν ανάλογο βαθμό. Για παράδειγμα αν ένας χρήστης έχει αξιολογήσει αρκετές  ταινίες οι όποιες είναι sci-fiction με 5/5 τότε μια ταίνια sci-fiction την όποια δεν έχει δεί λογικά θα του αρέσει και θα έπρεπε να την προτείνουμε.\n",
        "\n",
        "Μετά την εκπαίδευση του συστήματος σας καλείστε να δοκιμάσετε τον recommender που κατασκευάσατε στην πράξη. Για τον σκοπό αυτό θα φορτώσετε το αρχείο train_ratings.csv όπου περιέχονται οι αξιολογήσεις του ίδιου χρήστη για άλλες ταινίες. Το σύστημά σας πρέπει να προβλέπει αν μια ταινία θα πρέπει να προταθεί στον χρήστη. Μια ταίνια θα έπρεπε να έχει προταθεί στον  χρήστη, αν έχει βαθμό μεγαλύτερο του 3. Συνεπώς για την επίβλεψη του συστήματός σας θα πρέπει για κάθε μια από τις ταινίες του αρχείου test_ratings.csv να επιστρέφεται 1 ή 0 αν η ταινία θα έπαιρνε βαθμό μεγαλύτερο του 3 ή όχι, δηλαδή αν θα έπρεπε να την είχαμε προτείνει ή όχι.\n",
        "\n",
        "Στην συνέχεια, σε συνδιασμό με τις πραγματικές απαντήσεις του χρήστη θα αξιολογήσετε το σύστημά σας χρησιμοποιόντας τις μετρικές: precision, recall, f1 οι οποίες είναι οι πλέον γνωστές μετρικές και ευρέως χρησιμοποιούμενες τεχνικές για την επίβλεψη-μέτρηση απόδοσης ανάλογων συστημάτων.\n",
        "\n",
        "1. Precision: Δείχνει πόσο ακριβές είναι το σύστημα. Υπολογίζει πόσα από τα στιγμιότυπα τα όποια προβλέψαμε ότι ανήκουν σε μια κλάση όντως ανήκουν σε αυτή. Η μετρική αυτή μας δίνει μια εικόνα σχετικά με τον αριθμό των ταινίων που προβλέψαμε ως προτεινόμενες ενώ δεν θα έπρεπε.\n",
        "\n",
        "2. Recall: Υπολογίζει πόσα από τα στιγμιότυπα που ανήκουν σε μια κλάση (π.χ. προτεινόμενες ταινίες) προβλέφθηκαν σωστά.\n",
        "\n",
        "3. F1: Είναι ένας μέσος μεταξύ των παραπάνω δυο μετρικών, έτσι ώστε να διατηρείται μια ισορροπία μεταξύ τους. Υπολογίζεται από την παρακάτω σχέση:\n",
        "\n",
        "$$F_1=2\\frac{Precision\\times{Recall}}{Precision+Recall}$$\n",
        "\n",
        "Οι παραπάνω συναρτήσεις παρέχονται από την βιβλιοθήκη scikit-learn.\n",
        "\n",
        "Τέλος για την καλύτερη επίβλεψη του συστήματος σας μπορείτε να εκπαιδεύσετε  τον recommender σας με ένα υποσύνολο ταινίων (π.χ. 10, 20, 50, ...) για να μελετήσετε κατά πόσο σας βοηθούν οι επιπλέον αξιολογήσεις κάθε φορά (δηλαδή κατά πόσο βελτιώνονται οι παραπάνω μετρικές στο test set). Έτσι π.χ. μπορείτε να εντοπίσετε περιπτώσεις όπως για παράδειγμα ότι με έναν recommender μπορεί να μην επιτυγχάνετε πολύ υψηλό σκορ όσο με άλλους, αλλά το βέλτιστο σκόρ σας επιτυγχάνεται πολύ γρηγόρα π.χ. με μόνο 10 ταινίες αντί 100.\n",
        "\n"
      ]
    },
    {
      "cell_type": "markdown",
      "metadata": {
        "id": "9HWH0oMY4rUb"
      },
      "source": [
        "---\n",
        "## Κατασκευή Περιβάλλοντος Εργασίας\n",
        "---\n",
        "### Διάβασμα Αρχείων στο Colab (Μόνο για το Colab)\n",
        "Αν η υλοποίηση γίνει στο google colab τότε μπορεί να χρησιμοποιηθεί το google drive ως file system. Για να γίνει Mount το google drive τρέχουμε τον παρακάτω κώδικα και κλικάρουμε στο link που θα μας εμφανιστεί. \n",
        "\n",
        "```\n",
        "from google.colab import drive\n",
        "drive.mount('/gdrive')\n",
        "import os\n",
        "os.listdir('/gdrive/My Drive')\n",
        "```\n",
        "Έπειτα στην σελίδα που άνοιξε επιλέγουμε το mail μας και στο επόμενο παράθυρο που θα μας ανοίξει πατάμε Να επιτρέπεται. Στην συνέχεια αντιγράφουμε τον κωδικό που θα μας βγάλει και τον κάνουμε paste στο Input που έχει ανοίξει στο colab. Έτσι πλέον αν έχουμε ανεβάσει ένα αρχείο στο google drive μπορούμε να το βρούμε στην θέση:\n",
        "\n",
        "```\n",
        "movies_filename = '/gdrive/My Drive/' + movies_metadata.csv\n",
        "```\n",
        "Μπορούμε πλέον κανονικά να δουλέψουμε φτιάχνοντας φακέλους ή αρχεία και γενικότερα κάνοντας οτιδήποτε θα κάναμε αν ήμασταν τοπικά. \n",
        "\n",
        "### Prolog μέσω Python\n",
        "\n",
        "Το πακέτο που θα χρησιμοποιηθεί για την επικοινωνία Python και Prolog είναι το pyswip (https://pypi.org/project/pyswip/). Για να δουλέψει το Pyswip  χρειάζεται να υπάρχει το Swi-Prolog το όποιο αν δουλεύουμε τοπικά πρέπει να το εγκαταστήσουμε, ακολουθώντας αντίστοιχες οδηγίες στην σελίδα του εργαλείου. Για να γίνει του Swi-Prolog η εγκατάσταση στο Google Colab πρέπει να τρέξουμε τον παρακάτω κώδικα:\n",
        "\n",
        "```\n",
        "!sudo apt-get install software-properties-common\n",
        "!sudo apt-add-repository ppa:swi-prolog/stable\n",
        "!sudo apt-get update\n",
        "!sudo apt-get install swi-prolog\n",
        "```\n",
        "Σε κάποιο σημείο της εκτέλεσης εμφανίζεται ένα μήνυμα ότι πρέπει να πατήσουμε enter σε ένα input για να συνεχίσει η διαδικασία. Έπειτα από αυτό η εκτέλεση θα συνεχίσει χωρίς κάποιο πρόβλημα.\n",
        "\n",
        "Τέλος πρέπει να εγκαταστήσουμε το pyswip (**όπου και να δουλεύουμε**) όπως παρακάτω:\n",
        "\n",
        "```\n",
        "!pip isntall pyswip\n",
        "```\n"
      ]
    },
    {
      "cell_type": "markdown",
      "metadata": {
        "id": "atxL5_IREqdZ"
      },
      "source": [
        "Αργύρης Μανέτας 03117019 <br>\r\n",
        "Ελευθέριος Λυμπερόπουλος 03117061 "
      ]
    },
    {
      "cell_type": "markdown",
      "metadata": {
        "id": "doHQmp994rUb"
      },
      "source": [
        "---\n",
        "#Κώδικας για κατασκευή περιβάλλοντος εργασίας\n",
        "\n",
        "##Μόνο για Google Colab\n",
        "\n",
        "Κώδικας για να γίνει Mount to Google Drive"
      ]
    },
    {
      "cell_type": "code",
      "metadata": {
        "colab": {
          "base_uri": "https://localhost:8080/"
        },
        "id": "4QOs_gnx4rUb",
        "outputId": "80b91cde-4112-4f4e-f83e-34e5acf89a88"
      },
      "source": [
        "from google.colab import drive\n",
        "import math\n",
        "drive.mount('/gdrive')\n",
        "import os\n",
        "os.listdir('/gdrive/My Drive')\n",
        "path='/gdrive/My Drive/'"
      ],
      "execution_count": 1,
      "outputs": [
        {
          "output_type": "stream",
          "text": [
            "Mounted at /gdrive\n"
          ],
          "name": "stdout"
        }
      ]
    },
    {
      "cell_type": "code",
      "metadata": {
        "colab": {
          "base_uri": "https://localhost:8080/",
          "height": 35
        },
        "id": "xZdXjQr64rUc",
        "outputId": "45e65f7b-0552-42a0-827d-8ab83793e71f"
      },
      "source": [
        "#install swi-prolog\n",
        "!sudo apt-get install software-properties-common\n",
        "!sudo apt-add-repository ppa:swi-prolog/stable\n",
        "!sudo apt-get update\n",
        "!sudo apt-get install swi-prolog\n",
        "#install pyswip\n",
        "!pip install pyswip"
      ],
      "execution_count": 2,
      "outputs": [
        {
          "output_type": "execute_result",
          "data": {
            "application/vnd.google.colaboratory.intrinsic+json": {
              "type": "string"
            },
            "text/plain": [
              "'\\n#install swi-prolog\\n!sudo apt-get install software-properties-common\\n!sudo apt-add-repository ppa:swi-prolog/stable\\n!sudo apt-get update\\n!sudo apt-get install swi-prolog\\n#install pyswip\\n!pip install pyswip\\n'"
            ]
          },
          "metadata": {
            "tags": []
          },
          "execution_count": 2
        }
      ]
    },
    {
      "cell_type": "code",
      "metadata": {
        "colab": {
          "base_uri": "https://localhost:8080/"
        },
        "id": "mh6P0yRR30di",
        "outputId": "e78dfdce-ae41-45ad-e6ad-099fb674efff"
      },
      "source": [
        "from google.colab import drive\n",
        "drive.mount('/content/drive', force_remount=True)"
      ],
      "execution_count": 3,
      "outputs": [
        {
          "output_type": "stream",
          "text": [
            "Mounted at /content/drive\n"
          ],
          "name": "stdout"
        }
      ]
    },
    {
      "cell_type": "markdown",
      "metadata": {
        "id": "GxLahZ-i4rUc"
      },
      "source": [
        "# **Μέρος 1: Μελέτη των Metadata, Δημιουργία κόσμου και των βασικών queries.**\n"
      ]
    },
    {
      "cell_type": "code",
      "metadata": {
        "id": "gA3CRz5c4rUc"
      },
      "source": [
        "import pandas as pd\n",
        "from pyswip import Prolog\n",
        "import re"
      ],
      "execution_count": 4,
      "outputs": []
    },
    {
      "cell_type": "code",
      "metadata": {
        "colab": {
          "base_uri": "https://localhost:8080/",
          "height": 700
        },
        "id": "jnVDBIDw4rUd",
        "outputId": "ff7500c1-88e9-4bbc-f952-fd0fbd270ea3"
      },
      "source": [
        "# Η βιβλιοθήκη pandas είναι χρήσιμη για την εργασία με τέτοια δεδομένα\n",
        "import pandas as pd \n",
        "# Διάβασμα του αρχείου 'movie_metadata.csv' \n",
        "data = pd.read_csv(\"drive/MyDrive/movies_metadata.csv\")\n",
        "#Στο csv υπαρχούν κελία με nan τιμές\n",
        "#Στις θέσεις αυτές βάζουμε 'UNK' πράγμα που  κάνουμε με την παρακάτω συνάρτηση\n",
        "data.fillna(\"UNK\", inplace=True)\n",
        "# Preview the first 5 lines of the loaded data \n",
        "data.head()"
      ],
      "execution_count": 5,
      "outputs": [
        {
          "output_type": "execute_result",
          "data": {
            "text/html": [
              "<div>\n",
              "<style scoped>\n",
              "    .dataframe tbody tr th:only-of-type {\n",
              "        vertical-align: middle;\n",
              "    }\n",
              "\n",
              "    .dataframe tbody tr th {\n",
              "        vertical-align: top;\n",
              "    }\n",
              "\n",
              "    .dataframe thead th {\n",
              "        text-align: right;\n",
              "    }\n",
              "</style>\n",
              "<table border=\"1\" class=\"dataframe\">\n",
              "  <thead>\n",
              "    <tr style=\"text-align: right;\">\n",
              "      <th></th>\n",
              "      <th>Unnamed: 0</th>\n",
              "      <th>budget</th>\n",
              "      <th>genres</th>\n",
              "      <th>homepage</th>\n",
              "      <th>id</th>\n",
              "      <th>plot_keywords</th>\n",
              "      <th>language</th>\n",
              "      <th>original_title</th>\n",
              "      <th>overview</th>\n",
              "      <th>popularity</th>\n",
              "      <th>production_companies</th>\n",
              "      <th>production_countries</th>\n",
              "      <th>release_date</th>\n",
              "      <th>gross</th>\n",
              "      <th>duration</th>\n",
              "      <th>spoken_languages</th>\n",
              "      <th>status</th>\n",
              "      <th>tagline</th>\n",
              "      <th>movie_title</th>\n",
              "      <th>vote_average</th>\n",
              "      <th>num_voted_users</th>\n",
              "      <th>title_year</th>\n",
              "      <th>country</th>\n",
              "      <th>director_name</th>\n",
              "      <th>actor_1_name</th>\n",
              "      <th>actor_2_name</th>\n",
              "      <th>actor_3_name</th>\n",
              "    </tr>\n",
              "  </thead>\n",
              "  <tbody>\n",
              "    <tr>\n",
              "      <th>0</th>\n",
              "      <td>0</td>\n",
              "      <td>237000000</td>\n",
              "      <td>Action|Adventure|Fantasy|Science Fiction</td>\n",
              "      <td>http://www.avatarmovie.com/</td>\n",
              "      <td>19995</td>\n",
              "      <td>culture clash|future|space war|space colony|so...</td>\n",
              "      <td>English</td>\n",
              "      <td>Avatar</td>\n",
              "      <td>In the 22nd century, a paraplegic Marine is di...</td>\n",
              "      <td>150.437577</td>\n",
              "      <td>[{'name': 'Ingenious Film Partners', 'id': 289...</td>\n",
              "      <td>[{'iso_3166_1': 'US', 'name': 'United States o...</td>\n",
              "      <td>2009-12-10</td>\n",
              "      <td>2787965087</td>\n",
              "      <td>162</td>\n",
              "      <td>[{'iso_639_1': 'en', 'name': 'English'}, {'iso...</td>\n",
              "      <td>Released</td>\n",
              "      <td>Enter the World of Pandora.</td>\n",
              "      <td>Avatar</td>\n",
              "      <td>7.2</td>\n",
              "      <td>11800</td>\n",
              "      <td>2009</td>\n",
              "      <td>United States of America</td>\n",
              "      <td>James Cameron</td>\n",
              "      <td>Zoe Saldana</td>\n",
              "      <td>Sigourney Weaver</td>\n",
              "      <td>Stephen Lang</td>\n",
              "    </tr>\n",
              "    <tr>\n",
              "      <th>1</th>\n",
              "      <td>1</td>\n",
              "      <td>300000000</td>\n",
              "      <td>Adventure|Fantasy|Action</td>\n",
              "      <td>http://disney.go.com/disneypictures/pirates/</td>\n",
              "      <td>285</td>\n",
              "      <td>ocean|drug abuse|exotic island|east india trad...</td>\n",
              "      <td>English</td>\n",
              "      <td>Pirates of the Caribbean: At World's End</td>\n",
              "      <td>Captain Barbossa, long believed to be dead, ha...</td>\n",
              "      <td>139.082615</td>\n",
              "      <td>[{'name': 'Walt Disney Pictures', 'id': 2}, {'...</td>\n",
              "      <td>[{'iso_3166_1': 'US', 'name': 'United States o...</td>\n",
              "      <td>2007-05-19</td>\n",
              "      <td>961000000</td>\n",
              "      <td>169</td>\n",
              "      <td>[{'iso_639_1': 'en', 'name': 'English'}]</td>\n",
              "      <td>Released</td>\n",
              "      <td>At the end of the world, the adventure begins.</td>\n",
              "      <td>Pirates of the Caribbean: At World's End</td>\n",
              "      <td>6.9</td>\n",
              "      <td>4500</td>\n",
              "      <td>2007</td>\n",
              "      <td>United States of America</td>\n",
              "      <td>Gore Verbinski</td>\n",
              "      <td>Orlando Bloom</td>\n",
              "      <td>Keira Knightley</td>\n",
              "      <td>Stellan Skarsgård</td>\n",
              "    </tr>\n",
              "    <tr>\n",
              "      <th>2</th>\n",
              "      <td>2</td>\n",
              "      <td>245000000</td>\n",
              "      <td>Action|Adventure|Crime</td>\n",
              "      <td>http://www.sonypictures.com/movies/spectre/</td>\n",
              "      <td>206647</td>\n",
              "      <td>spy|based on novel|secret agent|sequel|mi6|bri...</td>\n",
              "      <td>Français</td>\n",
              "      <td>Spectre</td>\n",
              "      <td>A cryptic message from Bond’s past sends him o...</td>\n",
              "      <td>107.376788</td>\n",
              "      <td>[{'name': 'Columbia Pictures', 'id': 5}, {'nam...</td>\n",
              "      <td>[{'iso_3166_1': 'GB', 'name': 'United Kingdom'...</td>\n",
              "      <td>2015-10-26</td>\n",
              "      <td>880674609</td>\n",
              "      <td>148</td>\n",
              "      <td>[{'iso_639_1': 'fr', 'name': 'Français'}, {'is...</td>\n",
              "      <td>Released</td>\n",
              "      <td>A Plan No One Escapes</td>\n",
              "      <td>Spectre</td>\n",
              "      <td>6.3</td>\n",
              "      <td>4466</td>\n",
              "      <td>2015</td>\n",
              "      <td>United Kingdom</td>\n",
              "      <td>Sam Mendes</td>\n",
              "      <td>Christoph Waltz</td>\n",
              "      <td>Léa Seydoux</td>\n",
              "      <td>Ralph Fiennes</td>\n",
              "    </tr>\n",
              "    <tr>\n",
              "      <th>3</th>\n",
              "      <td>3</td>\n",
              "      <td>250000000</td>\n",
              "      <td>Action|Crime|Drama|Thriller</td>\n",
              "      <td>http://www.thedarkknightrises.com/</td>\n",
              "      <td>49026</td>\n",
              "      <td>dc comics|crime fighter|terrorist|secret ident...</td>\n",
              "      <td>English</td>\n",
              "      <td>The Dark Knight Rises</td>\n",
              "      <td>Following the death of District Attorney Harve...</td>\n",
              "      <td>112.312950</td>\n",
              "      <td>[{'name': 'Legendary Pictures', 'id': 923}, {'...</td>\n",
              "      <td>[{'iso_3166_1': 'US', 'name': 'United States o...</td>\n",
              "      <td>2012-07-16</td>\n",
              "      <td>1084939099</td>\n",
              "      <td>165</td>\n",
              "      <td>[{'iso_639_1': 'en', 'name': 'English'}]</td>\n",
              "      <td>Released</td>\n",
              "      <td>The Legend Ends</td>\n",
              "      <td>The Dark Knight Rises</td>\n",
              "      <td>7.6</td>\n",
              "      <td>9106</td>\n",
              "      <td>2012</td>\n",
              "      <td>United States of America</td>\n",
              "      <td>Christopher Nolan</td>\n",
              "      <td>Michael Caine</td>\n",
              "      <td>Gary Oldman</td>\n",
              "      <td>Anne Hathaway</td>\n",
              "    </tr>\n",
              "    <tr>\n",
              "      <th>4</th>\n",
              "      <td>4</td>\n",
              "      <td>260000000</td>\n",
              "      <td>Action|Adventure|Science Fiction</td>\n",
              "      <td>http://movies.disney.com/john-carter</td>\n",
              "      <td>49529</td>\n",
              "      <td>based on novel|mars|medallion|space travel|pri...</td>\n",
              "      <td>English</td>\n",
              "      <td>John Carter</td>\n",
              "      <td>John Carter is a war-weary, former military ca...</td>\n",
              "      <td>43.926995</td>\n",
              "      <td>[{'name': 'Walt Disney Pictures', 'id': 2}]</td>\n",
              "      <td>[{'iso_3166_1': 'US', 'name': 'United States o...</td>\n",
              "      <td>2012-03-07</td>\n",
              "      <td>284139100</td>\n",
              "      <td>132</td>\n",
              "      <td>[{'iso_639_1': 'en', 'name': 'English'}]</td>\n",
              "      <td>Released</td>\n",
              "      <td>Lost in our world, found in another.</td>\n",
              "      <td>John Carter</td>\n",
              "      <td>6.1</td>\n",
              "      <td>2124</td>\n",
              "      <td>2012</td>\n",
              "      <td>United States of America</td>\n",
              "      <td>Andrew Stanton</td>\n",
              "      <td>Lynn Collins</td>\n",
              "      <td>Samantha Morton</td>\n",
              "      <td>Willem Dafoe</td>\n",
              "    </tr>\n",
              "  </tbody>\n",
              "</table>\n",
              "</div>"
            ],
            "text/plain": [
              "   Unnamed: 0     budget  ...      actor_2_name       actor_3_name\n",
              "0           0  237000000  ...  Sigourney Weaver       Stephen Lang\n",
              "1           1  300000000  ...   Keira Knightley  Stellan Skarsgård\n",
              "2           2  245000000  ...       Léa Seydoux      Ralph Fiennes\n",
              "3           3  250000000  ...       Gary Oldman      Anne Hathaway\n",
              "4           4  260000000  ...   Samantha Morton       Willem Dafoe\n",
              "\n",
              "[5 rows x 27 columns]"
            ]
          },
          "metadata": {
            "tags": []
          },
          "execution_count": 5
        }
      ]
    },
    {
      "cell_type": "code",
      "metadata": {
        "id": "sPAqSe0n4rUd"
      },
      "source": [
        "def clean_text(text):\n",
        "  text = text.replace(u'\\xa0', u'')\n",
        "  text = text.replace(u\"'\", u'')\n",
        "  return text"
      ],
      "execution_count": 6,
      "outputs": []
    },
    {
      "cell_type": "markdown",
      "metadata": {
        "id": "X7xJzThzH-ij"
      },
      "source": [
        "Δημιουργούνται τα εξής κατηγορήματα:\r\n",
        "\r\n",
        "\r\n",
        "*   genre(Movie, Genre): Συνδέει την ταινία με τα είδη στα οποία εντάσσεται\r\n",
        "*   budget(Movie, Budget): Συνδέει την ταινία με τον προϋπολογισμό της\r\n",
        "*   plot_keywords(Movie, Plot_keywords): Συνδέει την ταινία με λέξεις-κλειδιά που την χαρακτηρίζουν\r\n",
        "*   language(Movie, Language): Συνδέει την ταινία με την γλώσσα. Παρατηρήσαμε στο σύνολο δεδομένων, ότι παρουσιάζονται ανακρίβειες σε αυτό το χαρακτηριστικό (πχ η ταινία Spectre ενώ χρησιμοποιείται κυρίως η αγγλική γλώσσα, έχει language την γαλλική). Για αυτό τον λόγο δεν χρησιμοποείται αυτο το κατηγόρημα στα επόμενα ερωτήματα.\r\n",
        "*   original_title(Movie, Title): Συνδέει την ταινία με τον τίτλο της\r\n",
        "*   popularity(Movie, Popularity): Συνδέει την ταινία με το σκορ δημοφιλίας\r\n",
        "*   production_companies(Movie, Prod_Company): Συνδέει την ταινία με τις εταιρείες παραγωγής\r\n",
        "*   countries(Movie, Country): Συνδέει την ταινία με τις χώρες που έλαβαν χώρα τα γυρίσματα\r\n",
        "*   title_year(Movie, Year): Συνδέει την ταινία με την χρονιά που κυκλοφόρησε\r\n",
        "*   gross(Movie, Gross): Συνδέει την ταινία με τα έσοδα που εισέπραξε\r\n",
        "*   duration(Movie, Duration): Συνδέει την ταινία με τη χρονική διάρκεια της\r\n",
        "*   spoken_languages(Movie, Languages): Συνδέει την ταινία με όλες τις γλώσσες που χρησιμοποιούνται σε αυτήν\r\n",
        "*   vote_average(Movie, Vote): Συνδέει την ταινία με την κριτική της\r\n",
        "*   director_name(Movie, Director): Συνδέει την ταινία με τον σκηνοθέτης της\r\n",
        "*   actors(Movie, Actors): Συνδέει την ταινία με τρεις ηθοποιούς της"
      ]
    },
    {
      "cell_type": "code",
      "metadata": {
        "id": "RcOo0hyJ4rUd"
      },
      "source": [
        "#create World\n",
        "#Ορίζουμε τον κόσμο μας\n",
        "prolog = Prolog()\n",
        "\n",
        "#Για κάθε row του πίνακα φτιάχνουμε τα κατηγορήματα που θέλουμε να αποθηκέυσουμε\n",
        "#αρχικά σε μια λίστα με το όνομα literals\n",
        "literals = []\n",
        "movie_score = {}\n",
        "for row in data.itertuples(index=True, name='Pandas'):\n",
        "  movie_title = clean_text(getattr(row, 'movie_title'))\n",
        "\n",
        "  for genre in getattr(row, 'genres').split(\"|\"):\n",
        "    literals.append(\"genre('\"+ movie_title +\"','\"+ genre +\"')\")\n",
        "  \n",
        "  #Budget append\n",
        "  literals.append(\"budget('\"+ movie_title +\"','\"+ clean_text(str(getattr(row, 'budget'))) +\"')\")\n",
        "\n",
        "  for genre in getattr(row, 'plot_keywords').split(\"|\"):\n",
        "    literals.append(\"plot_keywords('\"+ movie_title +\"','\"+ clean_text(genre) +\"')\")\n",
        "\n",
        "  literals.append(\"language('\"+ movie_title +\"','\"+ clean_text(str(getattr(row, 'language'))) +\"')\")\n",
        "  literals.append(\"original_title('\"+ movie_title +\"','\"+ clean_text(str(getattr(row, 'original_title'))) +\"')\")\n",
        "\n",
        "  literals.append(\"popularity('\"+ movie_title +\"','\"+ clean_text(str(getattr(row, 'popularity')))+\"')\")\n",
        "  literals.append(\"production_companies('\"+ movie_title +\"','\"+ clean_text(str(getattr(row, 'production_companies'))) +\"')\")\n",
        "  literals.append(\"countries('\"+ movie_title +\"','\"+ clean_text(str(getattr(row, 'country'))) +\"')\")\n",
        "\n",
        "  literals.append(\"title_year('\"+ movie_title +\"','\"+ clean_text(str(getattr(row, 'title_year'))) +\"')\")\n",
        "\n",
        "  literals.append(\"gross('\"+ movie_title +\"','\"+ clean_text(str(getattr(row, 'gross'))) +\"')\")\n",
        "  literals.append(\"duration('\"+ movie_title +\"','\"+ clean_text(str(getattr(row, 'duration'))) +\"')\")\n",
        "\n",
        "  literals.append(\"spoken_languages('\"+ movie_title +\"','\"+ clean_text(str(getattr(row, 'spoken_languages'))) +\"')\")\n",
        "  literals.append(\"vote_average('\"+ movie_title +\"','\"+ clean_text(str(getattr(row, 'vote_average'))) +\"')\")\n",
        "  literals.append(\"director_name('\"+ movie_title +\"','\"+ clean_text(str(getattr(row, 'director_name'))) +\"')\")\n",
        "  literals.append(\"actors('\"+ movie_title +\"','\"+ clean_text(str(getattr(row, 'actor_1_name'))) + \n",
        "                  \"','\"+ clean_text(str(getattr(row, 'actor_2_name'))) + \"','\"+ clean_text(str(getattr(row, 'actor_3_name'))) + \"')\")\n",
        "  \n",
        "\n",
        "#Η Prolog θέλει τα κατηγορήματά της με την σειρά \n",
        "literals.sort()\n",
        "for literal in literals:\n",
        "  prolog.assertz(literal)\n",
        "\n",
        "#Επίσης μπορούμε να κάνουμε consult ένα έτοιμο αρχείο στον κόσμο όπως παρακάτω\n",
        "#prolog.consult(path +\"db.pl\")"
      ],
      "execution_count": 7,
      "outputs": []
    },
    {
      "cell_type": "markdown",
      "metadata": {
        "id": "rl_3cYSrCwcp"
      },
      "source": [
        "Έχουμε δημιουργήσει τα εξής κατηγορήματα:\r\n",
        "\r\n",
        "\r\n",
        "*   same_director(X, Y), το οποίο ενοποιεί τις ταινίες Χ, Υ αν έχουν κοινό σκηνοθέτη.\r\n",
        "*  very_common_theme(X, Y), το οποίο ενοποιεί τις ταινίες Χ, Υ αν έχουν από 3 και πάνω κοινά genres.\r\n",
        "\r\n",
        "*  relatively_common_theme(X, Y), το οποίο ενοποιεί τις ταινίες Χ, Υ αν έχουν από 2 κοινά genres.\r\n",
        "\r\n",
        "*  common_theme(X, Y), το οποίο ενοποιεί τις ταινίες Χ, Υ αν έχουν 1 κοινό genre.\r\n",
        "*   very_common_actors(X, Y), το οποίο ενοποιεί τις ταινίες Χ, Υ αν έχουν κοινούς και τους 3 βασικούς ηθοποιούς.\r\n",
        "\r\n",
        "*   relatively_common_actors(X, Y), το οποίο ενοποιεί τις ταινίες Χ, Υ αν έχουν κοινούς 2 από τους 3 βασικούς ηθοποιούς.\r\n",
        "\r\n",
        "*   common_actors(X, Y), το οποίο ενοποιεί τις ταινίες Χ, Υ αν έχουν 1 κοινό βασικό ηθοποιό.\r\n",
        "\r\n",
        "\r\n",
        "*   exactly_same_plot(X, Y), το οποίο ενοποιεί τις ταινίες Χ, Υ αν έχουν 3 και πάνω κοινές plot keywords.\r\n",
        "\r\n",
        "*   relatively_common_plot(X, Y), το οποίο ενοποιεί τις ταινίες Χ, Υ αν έχουν 2 και πάνω κοινές plot keywords.\r\n",
        "*   relative_gross(X, Y), το οποίο ενοποιεί τις ταινίες Χ, Υ αν έχουν παρόμοιο gross.\r\n",
        "\r\n",
        "*   relative_year(X, Y), το οποίο ενοποιεί τις ταινίες Χ, Υ αν έχουν δημιουργηθεί εντός 10 ετών η μία από την άλλη.\r\n",
        "\r\n",
        "*   relative_vote_average(X, Y), το οποίο ενοποιεί τις ταινίες Χ, Υ αν έχουν παρόμοιο vote_average σκορ.\r\n",
        "\r\n",
        "\r\n",
        "*   relative_popularity(X, Y), το οποίο ενοποιεί τις ταινίες Χ, Υ αν έχουν παρόμοιο popularity σκορ.\r\n",
        "\r\n",
        "*   relative_budget(X, Y), το οποίο ενοποιεί τις ταινίες Χ, Υ αν έχουν παρόμοιο budget.\r\n",
        "\r\n",
        "*  common_plot(X, Y), το οποίο ενοποιεί τις ταινίες Χ, Υ αν έχουν 1 κοινό plot_keyword.\r\n",
        "\r\n",
        "\r\n",
        "\r\n",
        "\r\n",
        "\r\n",
        "\r\n"
      ]
    },
    {
      "cell_type": "code",
      "metadata": {
        "id": "61SbKPrg4rUd"
      },
      "source": [
        "# prolog.assertz('(directed_by(X,Y) :- findall(M,director(M,X),Y))')\r\n",
        "prolog.assertz('same_director(X, Y) :- director_name(X, X1), director_name(Y, X1), X \\= Y')\r\n",
        "prolog.assertz('find_common([], _, 0)')\r\n",
        "prolog.assertz('find_common([H|T], Y, N) :- member(H, Y) -> (find_common(T, Y, NN), N is NN + 1); find_common(T, Y, N)')\r\n",
        "prolog.assertz('very_common_theme(X, Y) :- genre(X, G1), genre(X, G2), genre(X, G3), genre(Y, G1), genre(Y, G2), genre(Y, G3), X \\= Y, G1 \\= G2, G1 \\= G3, G2 \\= G3')\r\n",
        "prolog.assertz('relatively_common_theme(X, Y) :- genre(X, G1), genre(X, G2), genre(Y, G1), genre(Y, G2), X \\= Y, G1 \\= G2')\r\n",
        "prolog.assertz('common_theme(X, Y) :- genre(X, G1), genre(Y, G1), X \\= Y')\r\n",
        "prolog.assertz('very_common_actors(X, Y) :- actors(X, X1, X2, X3), actors(Y, Y1, Y2, Y3), (X1 = Y1 ; X1 = Y2 ; X1 = Y3), (X2 = Y1 ; X2 = Y2 ; X2 = Y3), (X3 = Y1 ; X3 = Y2 ; X3 = Y3)')\r\n",
        "prolog.assertz('relatively_common_actors(X, Y) :- actors(X, X1, X2, X3), actors(Y, Y1, Y2, Y3), (X1 = Y1 ; X1 = Y2 ; X1 = Y3), (X2 = Y1 ; X2 = Y2 ; X2 = Y3)')\r\n",
        "prolog.assertz('common_actors(X, Y) :- actors(X, X1, X2, X3), actors(Y, Y1, Y2, Y3), (X1 = Y1 ; X1 = Y2 ; X1 = Y3)')\r\n",
        "prolog.assertz(\"\"\"exactly_same_plot(X, Y) :- plot_keywords(X, G1), plot_keywords(X , G2),\r\n",
        "                 plot_keywords(X, G3), plot_keywords(Y, G1), plot_keywords(Y, G2), plot_keywords(Y, G3), X \\= Y, G1 \\= G2, G1 \\= G3, G2 \\= G3\"\"\")\r\n",
        "prolog.assertz('relatively_common_plot(X, Y) :- plot_keywords(X, G1), plot_keywords(Y, G1), plot_keywords(X, G2), plot_keywords(Y, G2), G1 \\= G2, X \\= Y')\r\n",
        "prolog.assertz('relative_gross(X, Y) :- gross(X, G1), gross(Y, G2), atom_number(G1, GX), atom_number(G2, GY), DG is GX - GY, DG < 300000000, DG > -300000000')\r\n",
        "prolog.assertz('relative_year(X, Y) :- title_year(X, X1), title_year(Y, Y1), atom_number(X1, YX), atom_number(Y1, YY), DY is YX - YY, DY =< 10, DY >= -10')\r\n",
        "prolog.assertz('relative_vote_average(X, Y) :- vote_average(X, X1), vote_average(Y, Y1), atom_number(X1, XV), atom_number(Y1, YV), DV is XV - YV, DV >= -2.5, DV =< 2.5')\r\n",
        "prolog.assertz('relative_popularity(X, Y) :- popularity(X, X1), popularity(Y, Y1), atom_number(X1, XP), atom_number(Y1, YP), DP is XP - YP, DP =< 80, DP >= -80')\r\n",
        "prolog.assertz('relative_budget(X, Y):- budget(X, X1), budget(Y, Y1), atom_number(X1, XB), atom_number(Y1, YB), DB is YB - XB,  DB =< 150000000, DB >= -150000000')\r\n",
        "prolog.assertz('common_plot(X, Y) :- plot_keywords(X, G1), plot_keywords(Y, G1), X \\= Y')"
      ],
      "execution_count": 8,
      "outputs": []
    },
    {
      "cell_type": "markdown",
      "metadata": {
        "id": "ibe9jBk24rUd"
      },
      "source": [
        "# **2ο Μέρος: Recommendation System με βάση μόνο τα χαρακτηριστικά των ταινιών.**\n",
        "\n",
        "Στο σημείο αυτό με βάση τους κανόνες που κατασκευάστηκαν στο Μέρος 1 θα κατασκευαστούν κατηγορήματα για την ομοιότητα ταινιών. Παρακάτω δίνεται ένα μικρό παράδειγμα ενός κανόνα και πώς αυτός θα μπορούσε να γραφτεί μέσω του Pyswip. Επίσης όπως αναφέρεται και σε σχόλιο παραπάνω θα μπορεί να γραφτεί και μια βάση δεδομένων με τους κανόνες και να γίνει απευθείας consult.\n",
        "\n",
        "Στο παρακάτω παράδειγμα το 5 και το 4 εκφράζουν την ομοιότητα των ταινιών π.χ. οι ταινίες που παράγονται μέσω του find_similar_5 είναι πιο όμοιες από αυτές που παράγονται μέσω του find_similar_4. \n"
      ]
    },
    {
      "cell_type": "markdown",
      "metadata": {
        "id": "tzdxg0lHCAhu"
      },
      "source": [
        "Για το find_sim_1 χρησιμοποιήθηκαν τα κατηγορήματα για το genre και το budget. <br>\r\n",
        "Για το find_sim_2 χρησιμοποιήθηκαν τα κατηγορήματα για το genre, το budget, και τα keywords.<br>\r\n",
        "Για το find_sim_3 χρησιμοποιήθηκαν τα κατηγορήματα για το genre, το budget, τα keywords, τη δημοφιλία και των ψήφων.<br>\r\n",
        "Για το find_sim_4 χρησιμοποιήθηκαν τα κατηγορήματα για το genre, το budget, τα keywords, τη δημοφιλία, των ψήφων, τους κοινούς ηθοποιούς και τα έσοδα της ταινίας.<br>\r\n",
        "Για το find_sim_5 χρησιμοποιήθηκαν τα κατηγορήματα για το genre, το budget, τα keywords, τη δημοφιλία, των ψήφων, τους κοινούς ηθοποιούς, τα έσοδα της ταινίας, τον σκηνοθέτη και της χρονιά της προβολής."
      ]
    },
    {
      "cell_type": "code",
      "metadata": {
        "id": "hVfcBBpd4rUd"
      },
      "source": [
        "prolog.assertz(\"\"\"(find_sim_1(X, Y):-\n",
        "                                        common_theme(X, Y),\n",
        "                                        relative_budget(X, Y),\n",
        "                                        X \\= Y )\"\"\")\n",
        "prolog.assertz('''(find_sim_2(X, Y):-\n",
        "                                        relatively_common_theme(X, Y),\n",
        "                                        relative_budget(X, Y),\n",
        "                                        relatively_common_plot(X,Y),\n",
        "                                        X \\= Y )''')\n",
        "prolog.assertz('''(find_sim_3(X, Y):-\n",
        "                                        relatively_common_theme(X, Y),\n",
        "                                        relatively_common_plot(X, Y),\n",
        "                                        relative_budget(X, Y),\n",
        "                                        relative_popularity(X, Y),\n",
        "                                        relative_vote_average(X, Y),\n",
        "                                        X \\= Y )''')\n",
        "prolog.assertz('''(find_sim_4(X, Y):-\n",
        "                                        relatively_common_theme(X, Y),\n",
        "                                        relatively_common_plot(X, Y),\n",
        "                                        relative_budget(X, Y),\n",
        "                                        common_actors(X, Y),\n",
        "                                        relative_gross(X, Y),\n",
        "                                        relative_popularity(X, Y),\n",
        "                                        relative_vote_average(X, Y),\n",
        "                                        X \\= Y )''')\n",
        "prolog.assertz('''(find_sim_5(X, Y):-\n",
        "                                        relatively_common_theme(X, Y),\n",
        "                                        relative_budget(X, Y),\n",
        "                                        relatively_common_plot(X, Y),\n",
        "                                        same_director(X, Y),\n",
        "                                        relative_gross(X, Y),\n",
        "                                        common_actors(X, Y),\n",
        "                                        relative_popularity(X, Y),\n",
        "                                        relative_vote_average(X, Y),\n",
        "                                        relative_year(X, Y),\n",
        "                                        X \\= Y )''')"
      ],
      "execution_count": 9,
      "outputs": []
    },
    {
      "cell_type": "code",
      "metadata": {
        "colab": {
          "base_uri": "https://localhost:8080/"
        },
        "id": "kvdh4wig4rUd",
        "outputId": "4d51371d-6243-4238-dd64-101fb4e1d566"
      },
      "source": [
        "q = prolog.query(\"find_sim_5('Avatar', Y)\")\n",
        "s = set()\n",
        "for soln in q:\n",
        "  m = soln['Y'] \n",
        "  if m not in s:\n",
        "    s.add(soln['Y'])\n",
        "print(s)"
      ],
      "execution_count": 10,
      "outputs": [
        {
          "output_type": "stream",
          "text": [
            "set()\n"
          ],
          "name": "stdout"
        }
      ]
    },
    {
      "cell_type": "code",
      "metadata": {
        "id": "bh_jfhPC4rUd"
      },
      "source": [
        "def simple_recommender(movie, i):\n",
        "    s = set()\n",
        "    q = prolog.query(\"find_sim_\" + str(i) + \"('\" + movie +\"',M)\")\n",
        "    #q = prolog.query(\"num_of_common_genres('Pirates of the Caribbean: At Worlds End', 'Avatar', M)\")\n",
        "    for soln in q:\n",
        "        m = soln['M']\n",
        "        if m not in s:\n",
        "            s.add(soln['M'])\n",
        "    q.close()\n",
        "    answers = s\n",
        "    return answers"
      ],
      "execution_count": 11,
      "outputs": []
    },
    {
      "cell_type": "code",
      "metadata": {
        "colab": {
          "base_uri": "https://localhost:8080/"
        },
        "id": "rJd5GsobEIEP",
        "outputId": "b57918b4-3a48-43f5-97ee-500506c6e8c6"
      },
      "source": [
        "#print(clean_text(\"Pirates of the Caribbean: At Worlds End\"))\r\n",
        "list(simple_recommender('The Avengers', 4))[:5]"
      ],
      "execution_count": 12,
      "outputs": [
        {
          "output_type": "execute_result",
          "data": {
            "text/plain": [
              "['Avengers: Age of Ultron']"
            ]
          },
          "metadata": {
            "tags": []
          },
          "execution_count": 12
        }
      ]
    },
    {
      "cell_type": "markdown",
      "metadata": {
        "id": "YjpTwOuO4rUd"
      },
      "source": [
        "# **3ο Μέρος: Recommendation System Με βάση τις προτιμήσεις-Αξιολογήσεις του χρήστη-Εκπαίδευση και Πρόβλεψη**\n",
        "\n",
        "\n",
        "Αρχικά μελετάμε τις αξιολογήσεις κάθε χρήστη για να καταλάβουμε την δομή και τις πληροφορίες κάθε αρχείου.\n",
        "\n",
        "\n"
      ]
    },
    {
      "cell_type": "markdown",
      "metadata": {
        "id": "jubrz-RJN1_D"
      },
      "source": [
        "Τροποποιήσαμε τα βάρη ως εξής: <br>\r\n",
        "rating_weights = {0: -2, 1:-1, 2:-0.5, 3:0.5, 4:1, 5:2} <br>\r\n",
        "score_weights = {0: 0.1, 1:0.5, 2:3, 3:4, 4:5} <br>\r\n",
        "Για να πετύχουμε αρνητικά scores μειώσαμε κι άλλο τα αρνητικά βάρη και βάλαμε αρνητικό βάρος και για rating 2. <br>\r\n",
        "Επίσης βάλαμε αρκετά μεγαλύτερα βάρη στα υψηλά σκορ ομοιότητας αναλογικά με τα μικρότερα σκορ, επειδή είναι πολύ πιο σπάνιες οι ταινίες που έχουν μεγαλύτερη ομοιότητα. \r\n",
        "\r\n"
      ]
    },
    {
      "cell_type": "code",
      "metadata": {
        "id": "lL9P3GOd4rUe"
      },
      "source": [
        "from tqdm.notebook import tqdm\n",
        "from sklearn.metrics import precision_score, recall_score, f1_score\n",
        "\n",
        "rating_weights = {0: -2, 1:-1, 2:-0.5, 3:0.5, 4:1, 5:2}\n",
        "score_weights = {0: 0.1, 1:0.5, 2:3, 3:4, 4:5} # ανάλογα με τα επίπεδα ομοιότητας που έχουν οριστεί στην simple_recommender\n",
        "\n",
        "def train_recommender(ratings, rating_weights, score_weights, start=0, end = -1, movie_score = {}):\n",
        "    \"\"\"\n",
        "    Στην συνάρτηση αυτή μπορούμε να ορίζουμε ποιο υποσύνολο των αξιολογήσεων θα χρησιμοποιήσουμε για το train,\n",
        "    ενώ παράλληλα μπορούμε να αρχικοποιήσουμε και το movie_score το οποίο αποθηκεύονται τα score κάθε ταινίας.\n",
        "    Έτσι αν έχουμε κάνει train τον recommender μας για τις πρώτες 10 ταινίες, μπορούμε να συνεχίσουμε για τις \n",
        "    υπόλοιπες χωρίς κάθε φορά να ξανά-διαμορφώνουμε το score για αυτές. Αυτό θα σας βοηθήσει στην εκτέλεση και χρονικά όταν ελέγχετε την \n",
        "    απόδοση σε υποσύνολα των ratings π.χ. πρώτες 10 ταινίες έπειτα τις επόμενες 20 κ.ο.κ.\n",
        "    \"\"\"\n",
        "    if end == -1:\n",
        "        end = len(ratings)\n",
        "\n",
        "    ratings = ratings.iloc[range(start, end)]\n",
        "    for row in tqdm(ratings.itertuples(index=True, name='Pandas')):\n",
        "        movie = clean_text(getattr(row, 'movie_title'))\n",
        "        rating = getattr(row, 'rating')\n",
        "\n",
        "        similar_movies = dict()\n",
        "\n",
        "        for i in range(5, 0, -1):\n",
        "          for mov in simple_recommender(movie, i):\n",
        "            if mov not in similar_movies.keys():\n",
        "              similar_movies[mov] = i\n",
        "\n",
        "\n",
        "        for similar_movie in similar_movies:\n",
        "            if similar_movie not in movie_score:\n",
        "                movie_score[similar_movie] = rating_weights[int(rating)] * score_weights[similar_movies[similar_movie] - 1]\n",
        "            else:\n",
        "                movie_score[similar_movie] += rating_weights[int(rating)] * score_weights[similar_movies[similar_movie] - 1] #το weight θα το ορίσετε ανα επίπεδο ομοιότητας οι πολύ όμοιες ταινίες θα έχουν μεγαλύτερο βάρος\n",
        "    return movie_score\n",
        "\n",
        "\n",
        "#αυτό είναι ένα παράδειγμα για το πως θα μπορούσε να υλοποιήθει η predict\n",
        "#έχουμε ορίσει ότι μια ταινία θα έπρεπε να είναι προτεινόμενη αν είχε σκορ > 0\n",
        "def predict_example(ratings, movie_score):\n",
        "    real, pred = [], []\n",
        "    for i, row in enumerate(ratings.itertuples(index=True, name='Pandas')):\n",
        "        movie = clean_text(getattr(row, 'movie_title'))\n",
        "        rating = getattr(row, 'rating')\n",
        "\n",
        "        if movie in movie_score:\n",
        "            #αν έχουμε σχηματίσει βαθμολογία για την ταινία αυτή\n",
        "            pred.append(int(movie_score[movie] > 0.5)) #heuristic για το αν μια ταινία είναι προτεινόμενη\n",
        "            real.append(int(rating > 3))# έτσι ορίζουμε ότι μια ταινία θα έπρεπε να είναι προτεινόμενη\n",
        "            #η συνθήκη αυτή δεν μπορεί να αλλάξει\n",
        "        else: #δεν μπορούμε να προτείνουμε κάτι για το όποιο δεν έχουμε σχηματίσει εικόνα\n",
        "            pred.append(0)\n",
        "            real.append(int(rating > 3))\n",
        "\n",
        "    return real, pred\n",
        "\n",
        "\n",
        "def get_metrics(real, pred):\n",
        "    metrics = {}\n",
        "    metrics[\"precision\"] = precision_score(real, pred)\n",
        "    metrics[\"recall\"] = recall_score(real, pred)\n",
        "    metrics[\"f1\"] = f1_score(real, pred)\n",
        "    return metrics"
      ],
      "execution_count": 13,
      "outputs": []
    },
    {
      "cell_type": "code",
      "metadata": {
        "id": "tnIDJLJX4rUe"
      },
      "source": [
        "train_ratings = pd.read_csv(\"drive/MyDrive/train_ratings.csv\")\n",
        "test_ratings = pd.read_csv(\"drive/MyDrive/test_ratings.csv\")"
      ],
      "execution_count": 14,
      "outputs": []
    },
    {
      "cell_type": "code",
      "metadata": {
        "colab": {
          "base_uri": "https://localhost:8080/",
          "height": 83,
          "referenced_widgets": [
            "5e5abaf560a2424abc57030022f9b485",
            "856bbfc09c6946b4a91efd71103e368b",
            "8307f562598f44239684785614eaf020",
            "2aae5aa892a04e8392eab8cadc45f820",
            "487d7f380d9c4286aba3f42e24c5a45d",
            "ec7668fda6dd4a60862da160225ca63e",
            "5aac545b99a14af39ed40f626a808c21",
            "671bd55f189e4cc1848d54e0e5338c77"
          ]
        },
        "id": "IurBJXyA4rUe",
        "outputId": "1b365585-9931-4138-d2cd-a4f61ed4ffe3"
      },
      "source": [
        "movie_score = train_recommender(train_ratings, rating_weights, score_weights, 0, 10)\n",
        "real, pred = predict_example(test_ratings, movie_score)\n",
        "print (get_metrics(real, pred))"
      ],
      "execution_count": 15,
      "outputs": [
        {
          "output_type": "display_data",
          "data": {
            "application/vnd.jupyter.widget-view+json": {
              "model_id": "5e5abaf560a2424abc57030022f9b485",
              "version_minor": 0,
              "version_major": 2
            },
            "text/plain": [
              "HBox(children=(FloatProgress(value=1.0, bar_style='info', max=1.0), HTML(value='')))"
            ]
          },
          "metadata": {
            "tags": []
          }
        },
        {
          "output_type": "stream",
          "text": [
            "\n",
            "{'precision': 0.4, 'recall': 0.1111111111111111, 'f1': 0.1739130434782609}\n"
          ],
          "name": "stdout"
        }
      ]
    },
    {
      "cell_type": "code",
      "metadata": {
        "colab": {
          "base_uri": "https://localhost:8080/",
          "height": 83,
          "referenced_widgets": [
            "3bf15d9ddaf941dc861119457cc60e2f",
            "1ac5bc3ab00d4bcc8d0117e7d2b24705",
            "fb0684dab79b4eac88fba907d43e8034",
            "6da7878879ca4a039201ae55a68b9f7f",
            "c782032531114bc49d8ab2e3561a3da1",
            "3b03984722944342bf3f092a93bbcb91",
            "1efde22eb6194c4b945a2764b2951fe3",
            "439386f4dceb41b7aff2849f0f51d7ea"
          ]
        },
        "id": "xmxaauVc4rUe",
        "outputId": "fad9e850-fc06-4911-d426-8e45d0b39e98"
      },
      "source": [
        "movie_score = train_recommender(train_ratings, rating_weights, score_weights, 10, 20, movie_score)\n",
        "real, pred = predict_example(test_ratings, movie_score)\n",
        "print (get_metrics(real, pred))"
      ],
      "execution_count": 16,
      "outputs": [
        {
          "output_type": "display_data",
          "data": {
            "application/vnd.jupyter.widget-view+json": {
              "model_id": "3bf15d9ddaf941dc861119457cc60e2f",
              "version_minor": 0,
              "version_major": 2
            },
            "text/plain": [
              "HBox(children=(FloatProgress(value=1.0, bar_style='info', max=1.0), HTML(value='')))"
            ]
          },
          "metadata": {
            "tags": []
          }
        },
        {
          "output_type": "stream",
          "text": [
            "\n",
            "{'precision': 0.5, 'recall': 0.4166666666666667, 'f1': 0.45454545454545453}\n"
          ],
          "name": "stdout"
        }
      ]
    },
    {
      "cell_type": "code",
      "metadata": {
        "id": "k3xVQlr44rUe",
        "colab": {
          "base_uri": "https://localhost:8080/",
          "height": 83,
          "referenced_widgets": [
            "86ff06c4d5c0437c84e3c8ba25133f7a",
            "3b6b7c4ce59d4fa89615a46405020b98",
            "cf6cbeffff9c425c95dd9c779fcf554a",
            "0e9a6a44b6fb4ed88f0032e8dbd4e976",
            "16d3bf46e37b4e77a6e733066c87fd9f",
            "6d9799d5460f4674ac0d5b939d0ebba4",
            "8ccdb9524c544b75a1dbf41e98448860",
            "2809a111af5340b7badc494c56dc7ead"
          ]
        },
        "outputId": "9a1606e5-5448-4ef4-ff15-b685666b8949"
      },
      "source": [
        "movie_score = train_recommender(train_ratings, rating_weights, score_weights, 20, 30, movie_score)\n",
        "real, pred = predict_example(test_ratings, movie_score)\n",
        "print (get_metrics(real, pred))"
      ],
      "execution_count": 17,
      "outputs": [
        {
          "output_type": "display_data",
          "data": {
            "application/vnd.jupyter.widget-view+json": {
              "model_id": "86ff06c4d5c0437c84e3c8ba25133f7a",
              "version_minor": 0,
              "version_major": 2
            },
            "text/plain": [
              "HBox(children=(FloatProgress(value=1.0, bar_style='info', max=1.0), HTML(value='')))"
            ]
          },
          "metadata": {
            "tags": []
          }
        },
        {
          "output_type": "stream",
          "text": [
            "\n",
            "{'precision': 0.4875, 'recall': 0.5416666666666666, 'f1': 0.5131578947368421}\n"
          ],
          "name": "stdout"
        }
      ]
    },
    {
      "cell_type": "code",
      "metadata": {
        "id": "xCNY4yFN4rUe",
        "colab": {
          "base_uri": "https://localhost:8080/",
          "height": 83,
          "referenced_widgets": [
            "de50f8001cef4065bac9f1ba0af920f8",
            "0df9a71f34d848b2a06343aba1ca6740",
            "a61984e4ae7b4419b3d4c195f1abeaee",
            "e5661b4c3f6c4071a069955f7567725f",
            "c2b98cb54f40403b81c390d7d898fb6a",
            "1e4cb703ab9f43f58481f66fe8e0e5be",
            "789e871748534224bf2240162143099f",
            "d911253253fa44f3a4ffe8c2f67f56f3"
          ]
        },
        "outputId": "cecb0689-caba-4c29-b1af-e8ff668d8d98"
      },
      "source": [
        "movie_score = train_recommender(train_ratings, rating_weights, score_weights, 30, 75, movie_score)\n",
        "real, pred = predict_example(test_ratings, movie_score)\n",
        "print (get_metrics(real, pred))"
      ],
      "execution_count": 18,
      "outputs": [
        {
          "output_type": "display_data",
          "data": {
            "application/vnd.jupyter.widget-view+json": {
              "model_id": "de50f8001cef4065bac9f1ba0af920f8",
              "version_minor": 0,
              "version_major": 2
            },
            "text/plain": [
              "HBox(children=(FloatProgress(value=1.0, bar_style='info', max=1.0), HTML(value='')))"
            ]
          },
          "metadata": {
            "tags": []
          }
        },
        {
          "output_type": "stream",
          "text": [
            "\n",
            "{'precision': 0.5267175572519084, 'recall': 0.9583333333333334, 'f1': 0.6798029556650246}\n"
          ],
          "name": "stdout"
        }
      ]
    },
    {
      "cell_type": "code",
      "metadata": {
        "id": "1mjieavDctcZ",
        "colab": {
          "base_uri": "https://localhost:8080/",
          "height": 83,
          "referenced_widgets": [
            "33866641685b471b84d35a8eb0f1b2a7",
            "25ca6e85c10f4bef816245d595081f2b",
            "b4a7db9fc4a74fbeb19d5b5f98e4429a",
            "8c90da8e7f90451091156ae558146a57",
            "d5d41d9e64764daba85749100c85b063",
            "6ad5430a33a043a1b47e3dd9d4cbbfe0",
            "f5c11304e80146b189331564f626dbe6",
            "a145c4085412436ab24373646073ed7b"
          ]
        },
        "outputId": "cf0305e6-7511-40e3-93c2-4a541f6da780"
      },
      "source": [
        "movie_score = train_recommender(train_ratings, rating_weights, score_weights, 76, len(train_ratings), movie_score)\r\n",
        "real, pred = predict_example(test_ratings, movie_score)\r\n",
        "print (get_metrics(real, pred))"
      ],
      "execution_count": 19,
      "outputs": [
        {
          "output_type": "display_data",
          "data": {
            "application/vnd.jupyter.widget-view+json": {
              "model_id": "33866641685b471b84d35a8eb0f1b2a7",
              "version_minor": 0,
              "version_major": 2
            },
            "text/plain": [
              "HBox(children=(FloatProgress(value=1.0, bar_style='info', max=1.0), HTML(value='')))"
            ]
          },
          "metadata": {
            "tags": []
          }
        },
        {
          "output_type": "stream",
          "text": [
            "\n",
            "{'precision': 0.5193798449612403, 'recall': 0.9305555555555556, 'f1': 0.6666666666666667}\n"
          ],
          "name": "stdout"
        }
      ]
    }
  ]
}