{
  "nbformat": 4,
  "nbformat_minor": 0,
  "metadata": {
    "colab": {
      "name": "ΤΝ2020-P3.ipynb",
      "provenance": [],
      "collapsed_sections": []
    },
    "kernelspec": {
      "name": "python3",
      "display_name": "Python 3"
    }
  },
  "cells": [
    {
      "cell_type": "markdown",
      "metadata": {
        "id": "heT7siZWZjQD"
      },
      "source": [
        "# Τεχνητή Νοημοσύνη: Εργαστηριακή Άσκηση 3 \n",
        "Στην άσκηση αυτή θα υλοποιηθούν διάφοροι (σχετικά απλοί) αλγόριθμοι μηχανικής μάθησης για την αναγνώριση ψηφίων από εικόνα στο dataset MNIST. Συγκεκριμένα, θα δίνονται δύο σύνολα δεδομένων $$Ζ_{train}=\\{(x_1,y_1),\\dots,(x_n,y_n)\\}$$ $$Z_{test} = \\{(x_j,y_j),\\dots{,(x_k,y_k)}\\}$$ όπου κάθε $x_i\\in{\\mathbb{R}^p}$ είναι ένα διάνυσμα με τα pixels της κάθε εικόνας και $y_i$ είναι η ετικέτα της εικόνας - ένας ακέραιος στο $[0,9]$. Σε κάθε περίπτωση καλείστε να σχεδιάσετε έναν ταξινομητή, δηλαδή μια απεικόνιση $$f:\\mathbb{R}^p\\rightarrow{[0,9]}$$\n",
        "\n",
        "## 1ο Μέρος: Αξιολόγηση\n",
        "Στο πρώτο μέρος της άσκησης θα υλοποιηθούν συναρτήσεις που θα χρησιμοποιηθούν για την αξιολόγηση των ταξινομητών που θα υλοποιηθούν στα επόμενα μέρη.\n",
        "\n",
        "## 2ο Μέρος: ΚΝΝ\n",
        "Στο δεύτερο μέρος της άσκησης θα υλοποιήσετε τον αλγόριθμο KNN για ταξινόμηση. Υπενθυμίζεται από τις διαφάνειες το πλάνο σχεδιασμού για τον ταξινομητή k κοντινότερων γειτόνων:\n",
        "- Αποθηκεύουμε όλα τα δεδομένα ($Z_{train}$) στη μνήμη\n",
        "  - Τα δεδομένα μπορούν αποθηκευτούν σε έναν πίνακα $n\\times{p}$ με χρήση του numpy\n",
        "- Συγκρίνουμε την είσοδο με τα δεδομένα και βρίσκουμε τα k κοντινότερα ($k<n$) με βάση κάποια απόσταση.\n",
        "  - Όταν μας δίνεται μια \"φρέσκια\" εικόνα ως διάνυσμα από pixels $x_i$ χρειαζόμαστε μια συνάρτηση που να υπολογίζει την απόσταση $d(x_i,x_j)$, όπου $x_j$ είναι το διάνυσμα που αντιστιχεί στα pixels μιας εικόνας από τα δεδομένα εκπαίδευσης. Θα πειραματιστείτε με την ευκλείδια απόσταση και την απόσταση συνημιτόνου. Στη συνέχεια ταξινομούνται τα δεδομένα εκπαίδευσης ως προς την απόστασή τους από το $x_i$ και επιλέγονται τα $k$ κοντινότερα\n",
        "- Δίνουμε στην έξοδο την κλάση στην οποία ανήκει η πλειοψηφία των k κοντινότερων δεδομένων.\n",
        "\n",
        "Αφού κατασκευαστεί ο ταξινομητής θα αξιολογήσετε την επίδοσή του στις 100 πρώτες εικόνες του $Z_{test}$ για κάποιες τιμές του k που θα επιλέξετε εσείς, ξεκινώντας από $k=1$.\n",
        "\n",
        "Στην πράξη πολύ σπάνια θα χρειαστεί να υλοποιήσετε έναν αλγόριθμο μηχανικής μάθησης από το μηδέν, αφού υπάρχουν έτοιμες υλοποιήσεις, π.χ. σε πακέτα της python, οι οποίες είναι βελτιστοποιημένες και εύχρηστες. Το τελευταίο ζητούμενο  στο 1ο μέρος είναι να επαναλάβετε το παραπάνω πείραμα με την έτοιμη υλοποίηση του KNN που παρέχει η βιβλιοθήκη sklearn. Καλείστε να συγκρίνετε τα αποτελέσματα και τους χρόνους εκτέλεσης.\n",
        "\n",
        "## 3ο Μέρος: Naive Bayes\n",
        "Στο τρίτο μέρος της άσκησης θα υλοποιήσετε τον αλγόριθμο Naive Bayes. Ας θυμηθούμε από τις διαφάνειες:\n",
        "\n",
        "**Υποθέσεις:**\n",
        "- Τα χαρακτηριστικά είναι boolean, δηλαδή παίρνουν δύο τιμές\n",
        "  - Για το συγκεκριμένο πρόβλημα μπορούμε να στρογγυλοποιήσουμε τις τιμές των pixels από το $[0.0,1.0]\\rightarrow{\\{0,1\\}}$\n",
        "- Η πιθανότητα ένα στοιχείο με χαρακτηριστικά x να ανήκει στην κλάση i δίνεται από τον τύπο:\n",
        "$$p(i|x)=\\frac{p(i)\\cdot{\\prod_{k=1}^p}p(x^{(k)}|i)}{\\sum_{j=1}^pp(x^{(k)}|j)}$$\n",
        "- Για να ταξινομήσουμε ένα διάνυσμα χαρακτηρστικών x σε μια κλάση i επιλέγουμε την κλάση που μεγιστοποιεί την παραπάνω πιθανότητα\n",
        "  - Μπορούμε για τη σύγκριση να αγνοήσουμε τον παρονομαστή, αφού για όλες τις κλάσεις θα είναι ίδιος\n",
        "\n",
        "## 4ο Μέρος: Perceptron\n",
        "\n",
        "Στο τέταρτο μέρος της άσκησης θα κατασκευάσετε ένα πολυεπίπεδο νευρωνικό δίκτυο. Ο ταξινομητής αυτός θα εκπαιδευτεί στο να ταξινομεί τις εικόνες του mnist σε μια από τις 10 διαφορετικές κλάσεις (από 0 μέχρι 9). Αρχικά θα υλοποιήσετε το μοντέλο αυτό χρησιμοποιώντας αποκλειστικά την βιβλιοθήκη numpy ενώ στην συνέχεια θα χρησιμοποιήσετε μια έτοιμη κλάση για την κατασκευή του ίδιου μοντέλου.  \n",
        "\n",
        "Ας θυμηθούμε από τις διαφάνειες: \n",
        "\n",
        "Κάθε MLP αποτελείται από επίπεδα όπου το κάθε ένα από αυτά χωρίζεται στα παρακάτω μέρη: \n",
        "\n",
        "$$ z(x) = w^Τx + b $$ \n",
        "$$ f(x) = a(z(x))$$ \n",
        "\n",
        "όπου $w$, $b$ είναι τα βάρη του επιπέδου.  Η έξοδος z(x)είναι η απόκριση κάθε νευρώνα πριν την συνάρτηση ενεργοποίησης ενώ η f(x) μετά.  Κάθε επίπεδο συνδέεται με ένα επόμενο του οποίου η είσοδος του αποτελεί την έξοδο (με την συνάρτηση ενεργοποίησης) του προηγούμενου. \n",
        "\n",
        "Στο μέρος αυτό καλείστε να συμπληρώσετε σε ορισμένα σημεία κώδικα ώστε να επιτυγχάνεται αυτή η λειτουργικότητα. Στην συνέχεια θα υλοποιήσετε το ίδιο ακριβώς μοντέλο χρησιμοποιώντας όμως μια έτοιμη βιβλιοθήκη και θα συγκρίνετε τα αποτελέσματά τους (χρόνο, σκορ κ.α.). "
      ]
    },
    {
      "cell_type": "markdown",
      "metadata": {
        "id": "Rvm0mywsZmit"
      },
      "source": [
        "# 1ο Μέρος: Αξιολόγηση\n",
        "\n",
        "Παρακάτω σας δίνεται η κλάση Evaluate, η οποία υπολογίζει διάφορες μετρικές στη μέθοδο get_metrics, εντοπίζει αντικείμενα που ταξινομήθηκαν λάθος και τα εμφανίζει (μέθοδος get_sample_of_wrong) και υπολογίζει και τον πίνακα σύγχυσης (confusion matrix) όπου οπτικοποιούνται ανά κατηγορία οι προβλέψεις του ταξινομητή.\n",
        "\n",
        "Για το μέρος αυτό καλείστε να υλοποιήσετε στη μέθοδο my_accuracy τη μετρική accuracy, η οποία ορίζεται ως:\n",
        "$$accuracy = \\frac{\\#σωστών\\_προβλέψεων}{\\#δεδομένα}$$\n",
        "\n"
      ]
    },
    {
      "cell_type": "code",
      "metadata": {
        "id": "WlTj48uFZhyJ"
      },
      "source": [
        "from sklearn.metrics import confusion_matrix, f1_score, precision_score, recall_score\n",
        "from matplotlib import pyplot as plt\n",
        "import numpy as np\n",
        "import random\n",
        "\n",
        "class Evaluate:\n",
        "    def __init__(self,y_true,y_pred,x):\n",
        "      self.y_true = y_true\n",
        "      self.y_pred = y_pred\n",
        "      self.x = x\n",
        "\n",
        "    def my_accuracy(self):\n",
        "      y_true = self.y_true\n",
        "      y_pred = self.y_pred\n",
        "      \n",
        "      ##################\n",
        "      ## Your code below\n",
        "      \n",
        "      right_indexes = len([index for index in range(len(self.y_true)) if y_true[index] == y_pred[index]])\n",
        "      acc = right_indexes/len(y_true)\n",
        "      \n",
        "      ## Your code above\n",
        "      ##################\n",
        "      return acc\n",
        "\n",
        "    def get_metrics(self):\n",
        "        precision = precision_score(self.y_true, self.y_pred, average = \"macro\")\n",
        "        recall = recall_score(self.y_true, self.y_pred, average = \"macro\")\n",
        "        f1 = f1_score(self.y_true, self.y_pred, average = \"macro\")\n",
        "        results = {\"precision\" : precision, \"recall\": recall, \"f1\": f1,\"accuracy\":self.my_accuracy()}\n",
        "        return results   \n",
        "    \n",
        "    def confusion_matrix(self):\n",
        "        cm = confusion_matrix(self.y_true, self.y_pred)\n",
        "        return cm \n",
        "\n",
        "    def get_sample_of_wrong(self, rows = 5, lines = 4):\n",
        "        wrong_indexes = [index for index in range(len(self.y_true)) if self.y_true[index] != self.y_pred[index]]\n",
        "        plt.figure(figsize=(10, 10))\n",
        "\n",
        "        random.shuffle(wrong_indexes)\n",
        "        for i, index in enumerate(wrong_indexes[: rows*lines]):\n",
        "            plt.subplot(rows, lines, i + 1)\n",
        "            image = self.x[index]\n",
        "            plt.imshow(image.reshape((28, 28)))\n",
        "            plt.title(\"Real: {}, Pred: {}\".format(self.y_true[index], self.y_pred[index]))\n",
        "            plt.axis('off')\n",
        "\n",
        "    def get_evaluation_report(self):\n",
        "       metrics = self.get_metrics()\n",
        "       for m in metrics:\n",
        "         print(m+' : '+str(metrics[m]))\n",
        "       cm = self.confusion_matrix()\n",
        "       print(\"Confusion matrix: \")\n",
        "       print(cm)\n",
        "       print(\"Some images with wrong predictions\")\n",
        "       self.get_sample_of_wrong()"
      ],
      "execution_count": null,
      "outputs": []
    },
    {
      "cell_type": "markdown",
      "metadata": {
        "id": "3qcSvLy6ZpzB"
      },
      "source": [
        "Παράδειγμα χρήσης της κλάσης. Κανονικά στο x θα υπάρχουν οι εικόνες από το dataset"
      ]
    },
    {
      "cell_type": "code",
      "metadata": {
        "colab": {
          "base_uri": "https://localhost:8080/",
          "height": 294
        },
        "id": "S5hRZ9L1ZoNJ",
        "outputId": "6d83a1dc-437a-409d-bfcd-6f469b03835d"
      },
      "source": [
        "y_true = [1,0,2,0,0,1,1,0]\n",
        "y_pred = [0,0,2,0,1,1,0,0]\n",
        "x = np.random.rand(8,28*28)\n",
        "\n",
        "eval = Evaluate(y_true,y_pred,x)\n",
        "eval.get_evaluation_report()"
      ],
      "execution_count": null,
      "outputs": [
        {
          "output_type": "stream",
          "text": [
            "precision : 0.7000000000000001\n",
            "recall : 0.6944444444444443\n",
            "f1 : 0.6888888888888888\n",
            "accuracy : 0.625\n",
            "Confusion matrix: \n",
            "[[3 1 0]\n",
            " [2 1 0]\n",
            " [0 0 1]]\n",
            "Some images with wrong predictions\n"
          ],
          "name": "stdout"
        },
        {
          "output_type": "display_data",
          "data": {
            "image/png": "[encoded data removed]",
            "text/plain": [
              "<Figure size 720x720 with 3 Axes>"
            ]
          },
          "metadata": {
            "tags": [],
            "needs_background": "light"
          }
        }
      ]
    },
    {
      "cell_type": "markdown",
      "metadata": {
        "id": "h9Sex6aEZtt9"
      },
      "source": [
        "# Dataset\n",
        "\n",
        "To MNIST είναι από τα πιο διαδεδομένα σύνολα δεδομένων στη μηχανική μάθηση. Για όσους δουλεύουν στο Google Colab, το κελί που ακολουθεί φορτώνει τα δεδομένα εκπαίδευσης σε έναν πίνακα x_train με τις ετικέτες των δεδομένων στη λίστα y_train, και τα testing δεδομένα αντίστοιχα στα x_test και y_test.\n",
        "\n",
        "\n",
        "Για όσους δεν δουλεύουν στο colab μπορούν να αντικαταστήσουν τις δύο πρώτες γραμμές του κελιού (train_dset = ... και test_dset = ... ) με τον παρακάτω κώδικα:\n",
        "```\n",
        "mnist_dataframe = pd.read_csv(\n",
        "  \"https://download.mlcc.google.com/mledu-datasets/mnist_train_small.csv\",\n",
        "  sep=\",\",\n",
        "  header=None)\n",
        "mnist_dataframe = mnist_dataframe.head(10000)\n",
        "\n",
        "mnist_dataframe = mnist_dataframe.reindex(np.random.permutation(mnist_dataframe.index))\n",
        "train_dset = mnist_dataframe[:7500]\n",
        "test_dset = mnist_dataframe[7500:10000]\n",
        "```"
      ]
    },
    {
      "cell_type": "code",
      "metadata": {
        "id": "YvbVV9isZrwZ"
      },
      "source": [
        "import pandas as pd\n",
        "import numpy as np\n",
        "from matplotlib import pyplot as plt\n",
        "\n",
        "train_dset = pd.read_csv('/content/sample_data/mnist_train_small.csv',header=None)\n",
        "test_dset = pd.read_csv('/content/sample_data/mnist_test.csv',header=None)\n",
        "## From https://colab.research.google.com/notebooks/mlcc/multi-class_classification_of_handwritten_digits.ipynb#scrollTo=JfFWWvMWDFrR\n",
        "def parse_labels_and_features(dataset):\n",
        "  \"\"\"Extracts labels and features.\n",
        "  \n",
        "  This is a good place to scale or transform the features if needed.\n",
        "  \n",
        "  Args:\n",
        "    dataset: A Pandas `Dataframe`, containing the label on the first column and\n",
        "      monochrome pixel values on the remaining columns, in row major order.\n",
        "  Returns:\n",
        "    A `tuple` `(labels, features)`:\n",
        "      labels: A Pandas `Series`.\n",
        "      features: A Pandas `DataFrame`.\n",
        "  \"\"\"\n",
        "  labels = dataset[0]\n",
        "\n",
        "  # DataFrame.loc index ranges are inclusive at both ends.\n",
        "  features = dataset.loc[:,1:784]\n",
        "  # Scale the data to [0, 1] by dividing out the max value, 255.\n",
        "  features = features / 255\n",
        "\n",
        "  return labels, np.array(features)\n",
        "\n",
        "def show_image(features):\n",
        "  img = features.reshape((28,28))\n",
        "  plt.imshow(img)\n",
        "  plt.show()\n",
        "\n",
        "y_train,x_train = parse_labels_and_features(train_dset)\n",
        "y_test,x_test = parse_labels_and_features(test_dset)"
      ],
      "execution_count": null,
      "outputs": []
    },
    {
      "cell_type": "markdown",
      "metadata": {
        "id": "B4MX_WMeZwRu"
      },
      "source": [
        "Ποια είναι η μορφή των δεδομένων για μια εικόνα;"
      ]
    },
    {
      "cell_type": "code",
      "metadata": {
        "colab": {
          "base_uri": "https://localhost:8080/"
        },
        "id": "FhDzmllUZvyp",
        "outputId": "4a74ee7f-a811-4b1f-ee29-6367c557ede4"
      },
      "source": [
        "print(\"Shape of an image: \"+str(x_train[0].shape))\n",
        "print(\"Max value of pixel: \"+str(np.max(x_train[0])))"
      ],
      "execution_count": null,
      "outputs": [
        {
          "output_type": "stream",
          "text": [
            "Shape of an image: (784,)\n",
            "Max value of pixel: 1.0\n"
          ],
          "name": "stdout"
        }
      ]
    },
    {
      "cell_type": "markdown",
      "metadata": {
        "id": "B9B0hgyBZ3Vm"
      },
      "source": [
        "Φορτώνουμε μια τυχαία εικόνα και την εμφανίζουμε, μαζί με την ετικέτα της"
      ]
    },
    {
      "cell_type": "code",
      "metadata": {
        "colab": {
          "base_uri": "https://localhost:8080/",
          "height": 282
        },
        "id": "r3eLiC1nZ00c",
        "outputId": "54531ca8-213c-40fe-dcb8-a4670f484b4d"
      },
      "source": [
        "i = np.random.randint(0,x_train.shape[0])\n",
        "show_image(x_train[i])\n",
        "print(\"Label = \" +str(y_train[i]))"
      ],
      "execution_count": null,
      "outputs": [
        {
          "output_type": "display_data",
          "data": {
            "image/png": "[encoded data removed]",
            "text/plain": [
              "<Figure size 432x288 with 1 Axes>"
            ]
          },
          "metadata": {
            "tags": [],
            "needs_background": "light"
          }
        },
        {
          "output_type": "stream",
          "text": [
            "Label = 5\n"
          ],
          "name": "stdout"
        }
      ]
    },
    {
      "cell_type": "markdown",
      "metadata": {
        "id": "bYMke4uRZ8Ae"
      },
      "source": [
        "# 2o Μέρος: Υλοποίηση KNN\n",
        "\n",
        " Σας δίνεται η κλάση KNN η οποία αρχικοποιείται με ένα σύνολο από δεδομένα x, ετικέτες y και το k για τον αλγόριθμο. Καλείστε να συμπληρώσετε τον κώδικα που λείπει στις μεθόδους distance, get_knn και classify.\n",
        "\n",
        "Η απόσταση συνημιτόνου μεταξύ δύο διανυσμάτων u,v ορίζεται ως: $$d(u,v)= 1 - \\frac{u\\cdot{v}}{||u||_2||v||_2}$$"
      ]
    },
    {
      "cell_type": "code",
      "metadata": {
        "id": "EMPfT1jTZ51F"
      },
      "source": [
        "## Simple KNN\n",
        "\n",
        "class KNN:\n",
        "  def __init__(self,x,y,k,distance=\"euclidian\"):\n",
        "    self.x = x\n",
        "    self.y = y\n",
        "    self.k = k\n",
        "    self.distance = distance\n",
        "  \n",
        "  \n",
        "  ## Compute the distance between the two vectors img1 and img2\n",
        "  # hint: use np.linalg.norm for eucledian\n",
        "  # hint: use equation given above for cosine\n",
        "  def get_distance(self,img1,img2):\n",
        "    if self.distance=='euclidian':\n",
        "      ##################\n",
        "      ## Your code below\n",
        "      dist = np.linalg.norm(img1 - img2)\n",
        "      ## Your code above\n",
        "      ##################\n",
        "    elif self.distance=='cosine':\n",
        "      ##################\n",
        "      ## Your code below\n",
        "      img1_norm = np.linalg.norm(img1)\n",
        "      img2_norm = np.linalg.norm(img2)\n",
        "      dist = 1 - np.dot(img1, img2)/(img1_norm*img2_norm)\n",
        "      ## Your code above\n",
        "      ##################\n",
        "    return dist\n",
        "\n",
        "\n",
        "  ## Given an image as a vector, returns indexes of k nearest neighbors\n",
        "  def get_knn(self,img):\n",
        "    distances = list()\n",
        "    x = self.x\n",
        "    k = self.k\n",
        "    \n",
        "    ##################\n",
        "    ## Your code below - populate the distances list\n",
        "    # hint: you can use a for loop\n",
        "    for i in range(x.shape[0]): distances.append(self.get_distance(x[i], img))\n",
        "\n",
        "    ## Your code above\n",
        "    ##################\n",
        "\n",
        "    # Sort distances, and return the indexes of k first elements\n",
        "    ans_indexes = np.argsort(distances)[:k]\n",
        "    return ans_indexes\n",
        "\n",
        "\n",
        "  ## Given an image as a vector, classify it according to KNN\n",
        "  # hint: we have a list of k labels and want to return the most common one\n",
        "  def classify(self,img):\n",
        "    y = self.y\n",
        "    nn_labels = [y[i] for i in self.get_knn(img)]\n",
        "    \n",
        "    ##################\n",
        "    ## Your code below\n",
        "    freq = dict()\n",
        "\n",
        "    for class_ in nn_labels:\n",
        "      if class_ not in freq.keys(): freq[class_] = 1\n",
        "      else: freq[class_] += 1\n",
        "\n",
        "    max_value = max(freq.values())  # maximum value\n",
        "    max_keys = [k for k, v in freq.items() if v == max_value]\n",
        "    prediction = max_keys[0]\n",
        "\n",
        "    ## Your code above\n",
        "    ###################\n",
        "    return prediction\n",
        "\n",
        "\n",
        "knn_1_eu = KNN(x_train,y_train,k=1,distance='euclidian')\n",
        "knn_1_co = KNN(x_train,y_train,k=1,distance='cosine')\n",
        "knn_3_eu = KNN(x_train,y_train,k=3,distance='euclidian')\n",
        "knn_3_co = KNN(x_train,y_train,k=5,distance='cosine')\n",
        "knn_5_eu = KNN(x_train,y_train,k=5,distance='euclidian')\n",
        "knn_5_co = KNN(x_train,y_train,k=5,distance='cosine')"
      ],
      "execution_count": null,
      "outputs": []
    },
    {
      "cell_type": "markdown",
      "metadata": {
        "id": "B8-o5tn3aH0-"
      },
      "source": [
        "Τώρα που είναι έτοιμος ο ταξινομητής ας δούμε τι προβλέπει σε μεμονομένες εικόνες"
      ]
    },
    {
      "cell_type": "code",
      "metadata": {
        "colab": {
          "base_uri": "https://localhost:8080/",
          "height": 299
        },
        "id": "GTj_vqD5Z-Ex",
        "outputId": "8ee17a2d-ef1a-4dfa-a9d3-eb77d13b9d09"
      },
      "source": [
        "img = x_test[np.random.randint(0,x_test.shape[0])]\n",
        "print(\"Input image: \")\n",
        "show_image(img)\n",
        "print('Prediction : '+str(knn_1_co.classify(img)))"
      ],
      "execution_count": null,
      "outputs": [
        {
          "output_type": "stream",
          "text": [
            "Input image: \n"
          ],
          "name": "stdout"
        },
        {
          "output_type": "display_data",
          "data": {
            "image/png": "[encoded data removed]",
            "text/plain": [
              "<Figure size 432x288 with 1 Axes>"
            ]
          },
          "metadata": {
            "tags": [],
            "needs_background": "light"
          }
        },
        {
          "output_type": "stream",
          "text": [
            "Prediction : 6\n"
          ],
          "name": "stdout"
        }
      ]
    },
    {
      "cell_type": "markdown",
      "metadata": {
        "id": "XCiEi1UUaLzE"
      },
      "source": [
        "## Αξιολόγηση του KNN"
      ]
    },
    {
      "cell_type": "markdown",
      "metadata": {
        "id": "uKezHMhglQgH"
      },
      "source": [
        "Αξιολογούμε τους ταξινομητές KNN που έχουν k=1, k=3, k=5 για ευκλείδια απόσταση και απόσταση συνημιτόνου."
      ]
    },
    {
      "cell_type": "code",
      "metadata": {
        "id": "tKw0oa1jaJei"
      },
      "source": [
        "## Παίρνουμε όλες τις προβλέψεις στο test set (πρώτες 100 εικόνες)\n",
        "## ..υπομονή μερικά λεπτά\n",
        "\n",
        "labels = [y_test[i] for i in range(100)]"
      ],
      "execution_count": null,
      "outputs": []
    },
    {
      "cell_type": "code",
      "metadata": {
        "colab": {
          "base_uri": "https://localhost:8080/",
          "height": 430
        },
        "id": "8gtiGgN6iy3s",
        "outputId": "71b95776-1e70-4b4c-92b7-0287c7918090"
      },
      "source": [
        "preds = [knn_1_eu.classify(x_test[i]) for i in range(100)]\n",
        "eval = Evaluate(labels,preds,x_test[:100])\n",
        "print(\"1NN Euclidean\")\n",
        "eval.get_evaluation_report()"
      ],
      "execution_count": null,
      "outputs": [
        {
          "output_type": "stream",
          "text": [
            "1NN Euclidean\n",
            "precision : 0.9866666666666667\n",
            "recall : 0.9784090909090908\n",
            "f1 : 0.9816748768472907\n",
            "accuracy : 0.98\n",
            "Confusion matrix: \n",
            "[[ 8  0  0  0  0  0  0  0  0  0]\n",
            " [ 0 14  0  0  0  0  0  0  0  0]\n",
            " [ 0  1  7  0  0  0  0  0  0  0]\n",
            " [ 0  0  0 11  0  0  0  0  0  0]\n",
            " [ 0  0  0  0 14  0  0  0  0  0]\n",
            " [ 0  0  0  0  0  7  0  0  0  0]\n",
            " [ 0  0  0  0  0  0 10  0  0  0]\n",
            " [ 0  0  0  0  0  0  0 15  0  0]\n",
            " [ 0  0  0  0  0  0  0  0  2  0]\n",
            " [ 0  0  0  0  1  0  0  0  0 10]]\n",
            "Some images with wrong predictions\n"
          ],
          "name": "stdout"
        },
        {
          "output_type": "display_data",
          "data": {
            "image/png": "[encoded data removed]",
            "text/plain": [
              "<Figure size 720x720 with 2 Axes>"
            ]
          },
          "metadata": {
            "tags": [],
            "needs_background": "light"
          }
        }
      ]
    },
    {
      "cell_type": "code",
      "metadata": {
        "colab": {
          "base_uri": "https://localhost:8080/",
          "height": 323
        },
        "id": "9uXC7zXaiyfz",
        "outputId": "75ed1797-8b98-4495-d067-3cac9a73b0da"
      },
      "source": [
        "preds = [knn_1_co.classify(x_test[i]) for i in range(100)]\n",
        "eval = Evaluate(labels,preds,x_test[:100])\n",
        "print(\"1NN Cosine\")\n",
        "eval.get_evaluation_report()"
      ],
      "execution_count": null,
      "outputs": [
        {
          "output_type": "stream",
          "text": [
            "1NN Cosine\n",
            "precision : 1.0\n",
            "recall : 1.0\n",
            "f1 : 1.0\n",
            "accuracy : 1.0\n",
            "Confusion matrix: \n",
            "[[ 8  0  0  0  0  0  0  0  0  0]\n",
            " [ 0 14  0  0  0  0  0  0  0  0]\n",
            " [ 0  0  8  0  0  0  0  0  0  0]\n",
            " [ 0  0  0 11  0  0  0  0  0  0]\n",
            " [ 0  0  0  0 14  0  0  0  0  0]\n",
            " [ 0  0  0  0  0  7  0  0  0  0]\n",
            " [ 0  0  0  0  0  0 10  0  0  0]\n",
            " [ 0  0  0  0  0  0  0 15  0  0]\n",
            " [ 0  0  0  0  0  0  0  0  2  0]\n",
            " [ 0  0  0  0  0  0  0  0  0 11]]\n",
            "Some images with wrong predictions\n"
          ],
          "name": "stdout"
        },
        {
          "output_type": "display_data",
          "data": {
            "text/plain": [
              "<Figure size 720x720 with 0 Axes>"
            ]
          },
          "metadata": {
            "tags": []
          }
        }
      ]
    },
    {
      "cell_type": "code",
      "metadata": {
        "colab": {
          "base_uri": "https://localhost:8080/",
          "height": 430
        },
        "id": "T1vGlGqyiyNh",
        "outputId": "1b552b1e-6051-473e-ea2d-2f94dd5fd3e9"
      },
      "source": [
        "preds = [knn_3_eu.classify(x_test[i]) for i in range(100)]\n",
        "eval = Evaluate(labels,preds,x_test[:100])\n",
        "print(\"3NN Euclidean\")\n",
        "eval.get_evaluation_report()"
      ],
      "execution_count": null,
      "outputs": [
        {
          "output_type": "stream",
          "text": [
            "3NN Euclidean\n",
            "precision : 0.9775162337662338\n",
            "recall : 0.9712662337662337\n",
            "f1 : 0.9738737606479541\n",
            "accuracy : 0.97\n",
            "Confusion matrix: \n",
            "[[ 8  0  0  0  0  0  0  0  0  0]\n",
            " [ 0 14  0  0  0  0  0  0  0  0]\n",
            " [ 0  0  7  0  0  0  0  1  0  0]\n",
            " [ 0  0  0 11  0  0  0  0  0  0]\n",
            " [ 0  0  0  0 13  0  0  0  0  1]\n",
            " [ 0  0  0  0  0  7  0  0  0  0]\n",
            " [ 0  0  0  0  0  0 10  0  0  0]\n",
            " [ 0  0  0  0  0  0  0 15  0  0]\n",
            " [ 0  0  0  0  0  0  0  0  2  0]\n",
            " [ 0  0  0  0  1  0  0  0  0 10]]\n",
            "Some images with wrong predictions\n"
          ],
          "name": "stdout"
        },
        {
          "output_type": "display_data",
          "data": {
            "image/png": "[encoded data removed]",
            "text/plain": [
              "<Figure size 720x720 with 3 Axes>"
            ]
          },
          "metadata": {
            "tags": [],
            "needs_background": "light"
          }
        }
      ]
    },
    {
      "cell_type": "code",
      "metadata": {
        "colab": {
          "base_uri": "https://localhost:8080/",
          "height": 430
        },
        "id": "lva8B9N0ix5j",
        "outputId": "0e75229c-931a-4e82-9f19-ca964a869589"
      },
      "source": [
        "preds = [knn_3_co.classify(x_test[i]) for i in range(100)]\n",
        "eval = Evaluate(labels,preds,x_test[:100])\n",
        "print(\"3NN Cosine\")\n",
        "eval.get_evaluation_report()"
      ],
      "execution_count": null,
      "outputs": [
        {
          "output_type": "stream",
          "text": [
            "3NN Cosine\n",
            "precision : 0.9888888888888889\n",
            "recall : 0.9928571428571429\n",
            "f1 : 0.9904139433551198\n",
            "accuracy : 0.99\n",
            "Confusion matrix: \n",
            "[[ 8  0  0  0  0  0  0  0  0  0]\n",
            " [ 0 14  0  0  0  0  0  0  0  0]\n",
            " [ 0  0  8  0  0  0  0  0  0  0]\n",
            " [ 0  0  0 11  0  0  0  0  0  0]\n",
            " [ 1  0  0  0 13  0  0  0  0  0]\n",
            " [ 0  0  0  0  0  7  0  0  0  0]\n",
            " [ 0  0  0  0  0  0 10  0  0  0]\n",
            " [ 0  0  0  0  0  0  0 15  0  0]\n",
            " [ 0  0  0  0  0  0  0  0  2  0]\n",
            " [ 0  0  0  0  0  0  0  0  0 11]]\n",
            "Some images with wrong predictions\n"
          ],
          "name": "stdout"
        },
        {
          "output_type": "display_data",
          "data": {
            "image/png": "[encoded data removed]",
            "text/plain": [
              "<Figure size 720x720 with 1 Axes>"
            ]
          },
          "metadata": {
            "tags": [],
            "needs_background": "light"
          }
        }
      ]
    },
    {
      "cell_type": "code",
      "metadata": {
        "colab": {
          "base_uri": "https://localhost:8080/",
          "height": 430
        },
        "id": "z3rmGRaSixkf",
        "outputId": "de8bf9bf-8517-4dbc-cf59-ca87ecbb893e"
      },
      "source": [
        "preds = [knn_5_eu.classify(x_test[i]) for i in range(100)]\n",
        "eval = Evaluate(labels,preds,x_test[:100])\n",
        "print(\"5NN Euclidean\")\n",
        "eval.get_evaluation_report()"
      ],
      "execution_count": null,
      "outputs": [
        {
          "output_type": "stream",
          "text": [
            "5NN Euclidean\n",
            "precision : 0.9749019607843138\n",
            "recall : 0.9568181818181818\n",
            "f1 : 0.962567733990148\n",
            "accuracy : 0.96\n",
            "Confusion matrix: \n",
            "[[ 8  0  0  0  0  0  0  0  0  0]\n",
            " [ 0 14  0  0  0  0  0  0  0  0]\n",
            " [ 0  1  6  0  0  0  0  1  0  0]\n",
            " [ 0  0  0 11  0  0  0  0  0  0]\n",
            " [ 0  0  0  0 14  0  0  0  0  0]\n",
            " [ 0  0  0  0  0  7  0  0  0  0]\n",
            " [ 0  0  0  0  0  0 10  0  0  0]\n",
            " [ 0  0  0  0  0  0  0 15  0  0]\n",
            " [ 0  0  0  0  0  0  0  0  2  0]\n",
            " [ 0  0  0  0  1  0  0  1  0  9]]\n",
            "Some images with wrong predictions\n"
          ],
          "name": "stdout"
        },
        {
          "output_type": "display_data",
          "data": {
            "image/png": "[encoded data removed]",
            "text/plain": [
              "<Figure size 720x720 with 4 Axes>"
            ]
          },
          "metadata": {
            "tags": [],
            "needs_background": "light"
          }
        }
      ]
    },
    {
      "cell_type": "code",
      "metadata": {
        "colab": {
          "base_uri": "https://localhost:8080/",
          "height": 430
        },
        "id": "XP-NB9CTixRn",
        "outputId": "7c3838df-08f6-4456-dda1-2e62c12f00c4"
      },
      "source": [
        "preds = [knn_5_co.classify(x_test[i]) for i in range(100)]\n",
        "eval = Evaluate(labels,preds,x_test[:100])\n",
        "print(\"5NN Cosine\")\n",
        "eval.get_evaluation_report()"
      ],
      "execution_count": null,
      "outputs": [
        {
          "output_type": "stream",
          "text": [
            "5NN Cosine\n",
            "precision : 0.9888888888888889\n",
            "recall : 0.9928571428571429\n",
            "f1 : 0.9904139433551198\n",
            "accuracy : 0.99\n",
            "Confusion matrix: \n",
            "[[ 8  0  0  0  0  0  0  0  0  0]\n",
            " [ 0 14  0  0  0  0  0  0  0  0]\n",
            " [ 0  0  8  0  0  0  0  0  0  0]\n",
            " [ 0  0  0 11  0  0  0  0  0  0]\n",
            " [ 1  0  0  0 13  0  0  0  0  0]\n",
            " [ 0  0  0  0  0  7  0  0  0  0]\n",
            " [ 0  0  0  0  0  0 10  0  0  0]\n",
            " [ 0  0  0  0  0  0  0 15  0  0]\n",
            " [ 0  0  0  0  0  0  0  0  2  0]\n",
            " [ 0  0  0  0  0  0  0  0  0 11]]\n",
            "Some images with wrong predictions\n"
          ],
          "name": "stdout"
        },
        {
          "output_type": "display_data",
          "data": {
            "image/png": "[encoded data removed]",
            "text/plain": [
              "<Figure size 720x720 with 1 Axes>"
            ]
          },
          "metadata": {
            "tags": [],
            "needs_background": "light"
          }
        }
      ]
    },
    {
      "cell_type": "markdown",
      "metadata": {
        "id": "V7LP247HaU6m"
      },
      "source": [
        "## Έτοιμος ΚΝΝ classifier\n",
        "\n",
        "Όπως και με τους περισσότερους αλγορίθμους μηχανικής μάθησης, υπάρχουν έτοιμες βελτιστοποιημένες υλοποιήσεις. Παρακάτω δείχνουμε ένα παράδειγμα χρήσης του ταξινομητή ΚΝΝ που παρέχει η βιβλιοθήκη sklearn: [documentation](https://scikit-learn.org/stable/modules/generated/sklearn.neighbors.KNeighborsClassifier.html)"
      ]
    },
    {
      "cell_type": "code",
      "metadata": {
        "colab": {
          "base_uri": "https://localhost:8080/",
          "height": 413
        },
        "id": "Os0WCL-QaOnr",
        "outputId": "4ff63d7b-9a7b-40df-e47d-9f881c703eb6"
      },
      "source": [
        "from sklearn.neighbors import KNeighborsClassifier\n",
        "\n",
        "k = 5\n",
        "knc = KNeighborsClassifier(n_neighbors=k)\n",
        "knc.fit(x_train, y_train)\n",
        "y_pred = knc.predict(x_test[:100])\n",
        "\n",
        "eval = Evaluate(y_test[:100],y_pred,x_test[:100])\n",
        "eval.get_evaluation_report()"
      ],
      "execution_count": null,
      "outputs": [
        {
          "output_type": "stream",
          "text": [
            "precision : 0.9749019607843138\n",
            "recall : 0.9568181818181818\n",
            "f1 : 0.962567733990148\n",
            "accuracy : 0.96\n",
            "Confusion matrix: \n",
            "[[ 8  0  0  0  0  0  0  0  0  0]\n",
            " [ 0 14  0  0  0  0  0  0  0  0]\n",
            " [ 0  1  6  0  0  0  0  1  0  0]\n",
            " [ 0  0  0 11  0  0  0  0  0  0]\n",
            " [ 0  0  0  0 14  0  0  0  0  0]\n",
            " [ 0  0  0  0  0  7  0  0  0  0]\n",
            " [ 0  0  0  0  0  0 10  0  0  0]\n",
            " [ 0  0  0  0  0  0  0 15  0  0]\n",
            " [ 0  0  0  0  0  0  0  0  2  0]\n",
            " [ 0  0  0  0  1  0  0  1  0  9]]\n",
            "Some images with wrong predictions\n"
          ],
          "name": "stdout"
        },
        {
          "output_type": "display_data",
          "data": {
            "image/png": "[encoded data removed]",
            "text/plain": [
              "<Figure size 720x720 with 4 Axes>"
            ]
          },
          "metadata": {
            "tags": [],
            "needs_background": "light"
          }
        }
      ]
    },
    {
      "cell_type": "markdown",
      "metadata": {
        "id": "RcUBX2XMaZUd"
      },
      "source": [
        "## Σύκγριση υλοποιήσεων\n",
        "\n",
        "Στα παρακάτω κελιά πειραματιστείτε με τις δύο υλοποιήσεις (τη δική σας και την έτοιμη). Βεβαιωθείτε πως προκύπτουν τα ίδια αποτελέσματα για διάφορες τιμές του k (για ευκλείδια απόσταση) και μετρήστε τους χρόνους εκτέλεσης."
      ]
    },
    {
      "cell_type": "code",
      "metadata": {
        "colab": {
          "base_uri": "https://localhost:8080/"
        },
        "id": "8Yz_Y_cpaWor",
        "outputId": "48be9747-b0f0-4cb5-85a6-950f278aa312"
      },
      "source": [
        "%%time\n",
        "knn = KNN(x_train,y_train,k=1,distance='euclidian')\n",
        "preds = [knn.classify(x_test[i]) for i in range(100)]"
      ],
      "execution_count": null,
      "outputs": [
        {
          "output_type": "stream",
          "text": [
            "CPU times: user 21.9 s, sys: 2.96 ms, total: 21.9 s\n",
            "Wall time: 22 s\n"
          ],
          "name": "stdout"
        }
      ]
    },
    {
      "cell_type": "code",
      "metadata": {
        "colab": {
          "base_uri": "https://localhost:8080/"
        },
        "id": "MsU7zJc1mq_h",
        "outputId": "67553e1e-10b6-490e-8d44-0a2f5ab4f940"
      },
      "source": [
        "%%time\n",
        "knn = KNN(x_train,y_train,k=3,distance='euclidian')\n",
        "preds = [knn.classify(x_test[i]) for i in range(100)]"
      ],
      "execution_count": null,
      "outputs": [
        {
          "output_type": "stream",
          "text": [
            "CPU times: user 22 s, sys: 5.97 ms, total: 22 s\n",
            "Wall time: 22.1 s\n"
          ],
          "name": "stdout"
        }
      ]
    },
    {
      "cell_type": "code",
      "metadata": {
        "colab": {
          "base_uri": "https://localhost:8080/"
        },
        "id": "U_GETN1xmogo",
        "outputId": "b95b2bd3-1f7c-469e-e1f5-8bbd854971d3"
      },
      "source": [
        "%%time\n",
        "knn = KNN(x_train,y_train,k=5,distance='euclidian')\n",
        "preds = [knn.classify(x_test[i]) for i in range(100)]"
      ],
      "execution_count": null,
      "outputs": [
        {
          "output_type": "stream",
          "text": [
            "CPU times: user 21.8 s, sys: 4.01 ms, total: 21.8 s\n",
            "Wall time: 21.8 s\n"
          ],
          "name": "stdout"
        }
      ]
    },
    {
      "cell_type": "code",
      "metadata": {
        "colab": {
          "base_uri": "https://localhost:8080/"
        },
        "id": "77s6o3ZkabCY",
        "outputId": "fcebbc4c-6b87-483d-f1ab-0d1ae77fdef1"
      },
      "source": [
        "%%time\n",
        "knc = KNeighborsClassifier(n_neighbors=1)\n",
        "knc.fit(x_train, y_train)\n",
        "y_pred = knc.predict(x_test[:100])"
      ],
      "execution_count": null,
      "outputs": [
        {
          "output_type": "stream",
          "text": [
            "CPU times: user 6.57 s, sys: 4.03 ms, total: 6.57 s\n",
            "Wall time: 6.58 s\n"
          ],
          "name": "stdout"
        }
      ]
    },
    {
      "cell_type": "code",
      "metadata": {
        "colab": {
          "base_uri": "https://localhost:8080/"
        },
        "id": "Ce0O8Me_nY2-",
        "outputId": "62f0027e-e198-479b-fc47-8e5b41a4df59"
      },
      "source": [
        "%%time\n",
        "knc = KNeighborsClassifier(n_neighbors=3)\n",
        "knc.fit(x_train, y_train)\n",
        "y_pred = knc.predict(x_test[:100])"
      ],
      "execution_count": null,
      "outputs": [
        {
          "output_type": "stream",
          "text": [
            "CPU times: user 6.47 s, sys: 11 ms, total: 6.48 s\n",
            "Wall time: 6.49 s\n"
          ],
          "name": "stdout"
        }
      ]
    },
    {
      "cell_type": "code",
      "metadata": {
        "colab": {
          "base_uri": "https://localhost:8080/"
        },
        "id": "JWtSHTVunYTY",
        "outputId": "b7e95618-4949-4856-9e8d-5009d094e17e"
      },
      "source": [
        "%%time\n",
        "knc = KNeighborsClassifier(n_neighbors=5)\n",
        "knc.fit(x_train, y_train)\n",
        "y_pred = knc.predict(x_test[:100])"
      ],
      "execution_count": null,
      "outputs": [
        {
          "output_type": "stream",
          "text": [
            "CPU times: user 6.46 s, sys: 7.99 ms, total: 6.46 s\n",
            "Wall time: 6.48 s\n"
          ],
          "name": "stdout"
        }
      ]
    },
    {
      "cell_type": "markdown",
      "metadata": {
        "id": "bc9ySKoRaek-"
      },
      "source": [
        "## Σχολιασμός\n",
        "\n",
        "Παρατηρούμε ότι η επιλογή της απόστασης cosine έχει καλύτερα αποτελέσματα σε σχέση με την επιλογή της ευκλείδιας απόστασης για ίδια k. <br> Επίσης, οι ταξινομητές των βιβλιοθηκών εκτελούν την εκμάθηση στο 1/3 του χρόνου που απαιτείται για την εκμάθηση του δικού μας ταξινομητή. Αυτό μπορεί να οφείλεται σε βελτιστοποιήσεις που έχουν γίνει στους υπολογισμούς των αποστάσεων. <br> Μια ακόμα παρατήρηση είναι ότι με την αύξηση του k στους ταξιμονητές μειώνεται η ακρίβεια των προβλέψεων. Αυτό μπορεί να συμβαίνει διότι στους κοντινότερους γείτονες υπάρχουν περισσότερες εικόνες που μοιάζουν μεταξύ τους αλλά μπορεί να ανήκουν σε διαφορετικές κλάσεις, όπως 7 και 9.<br>\n",
        "Γενικά, η ιδέα του να διαλέγουμε τα k κοντινότερα δεδομένα, αυξάνει το υπολογιστικό κόστος. Όσο αυξάνονται τα k, αυξάνεται η ανοχή στο θόρυβο. Στην περίπτωσή μας δεν είχε το επιθυμητό αποτέλεσμα, ωστόσο σε άλλες εφαρμογές που η απόσταση μεταξύ των κλάσεων είναι μεγαλύτερη, η αύξηση του k μπορεί να σημαίνει και μεγαλύτερη ακρίβεια."
      ]
    },
    {
      "cell_type": "markdown",
      "metadata": {
        "id": "Xe17UwwLag5Y"
      },
      "source": [
        "# 3ο Μέρος: Naive Bayes\n",
        "\n",
        "Αρχικά στρογγυλοποιούμε τις τιμές των pixels για να παίρνουν διακριτές τιμές στο $\\{0,1\\}$"
      ]
    },
    {
      "cell_type": "code",
      "metadata": {
        "colab": {
          "base_uri": "https://localhost:8080/",
          "height": 265
        },
        "id": "GNbBhsg2ach8",
        "outputId": "29ef6580-1c55-4468-bca7-a3f77e28d902"
      },
      "source": [
        "## Στρογγυλοποίηση:\n",
        "x_train_r = np.round(x_train)\n",
        "x_test_r = np.round(x_test)\n",
        "show_image(x_test_r[0])"
      ],
      "execution_count": null,
      "outputs": [
        {
          "output_type": "display_data",
          "data": {
            "image/png": "[encoded data removed]",
            "text/plain": [
              "<Figure size 432x288 with 1 Axes>"
            ]
          },
          "metadata": {
            "tags": [],
            "needs_background": "light"
          }
        }
      ]
    },
    {
      "cell_type": "markdown",
      "metadata": {
        "id": "lFORd6XJakZl"
      },
      "source": [
        "Παρακάτω σας δίνεται η κλάση NaiveBayes που υλοποιεί τον αλγόριθμο. Καλείστε αρχικά να υπολογίσετε την πιθανότητα $p(x^{(k)}|i)$ για διάνυσμα χαρακτηριστκών $x$ και κατηγορία $i$ στη μέθοδο compute_probabilities. Στη συνέχεια θα υπολογίσετε την πιθανότητα $p(i|x)$ στη μέθοδο predict."
      ]
    },
    {
      "cell_type": "code",
      "metadata": {
        "id": "ufKo5f5yaiqH"
      },
      "source": [
        "class NaiveBayes:\n",
        "  def __init__(self,x,y):\n",
        "    self.x = x\n",
        "    self.y = y\n",
        "    ## pC is a vector with the probability of each class\n",
        "    self.pC = np.zeros((10,))\n",
        "    ## pxC is an array with all probabilities p(xi|C)\n",
        "    self.pxC = np.zeros((x.shape[-1],10))\n",
        "    ## Compute the probabilities\n",
        "    self.compute_probabilities()\n",
        "\n",
        "  def compute_probabilities(self):\n",
        "    ## Compute p(C) for each class\n",
        "    for label in self.y:\n",
        "      self.pC[label]+=1\n",
        "    self.pC = self.pC/self.y.shape[0]\n",
        "\n",
        "    ## Compute p(xi|C) for each feature xi and class C\n",
        "    # hint: you can use one or more for loops\n",
        "    ###################\n",
        "    ## Your code below\n",
        "\n",
        "    class_counter = np.zeros((10,))\n",
        "\n",
        "    for j in range(self.x.shape[0]):\n",
        "      result = self.y[j]\n",
        "      class_counter[result] += 1 \n",
        "      for xi in range(self.x.shape[1]):\n",
        "        if self.x[j, xi] == 1:\n",
        "          self.pxC[xi, result] += 1\n",
        "\n",
        "    for c in range(class_counter.shape[0]):\n",
        "      for xi in range(self.x.shape[1]):\n",
        "        self.pxC[xi, c] /= class_counter[c] \n",
        "\n",
        "    ## Your code above\n",
        "    ##################\n",
        "\n",
        "  def predict(self,x):\n",
        "    ## ~Probability of x belonging to each class\n",
        "    ## (not actucal probability since we ignore denominator)\n",
        "    pcX = np.ones((10,))\n",
        "    for i in range(10):\n",
        "      # hint: We have probabilities p({x_j=1}|i) in self.pxC\n",
        "      # We also need p({x_j=0}|i) for computing p(x|i)\n",
        "      #################\n",
        "      ## Your code below\n",
        "        pcX[i] = self.pC[i]\n",
        "        for pixel in range(x.shape[0]):\n",
        "          if x[pixel] == 1:\n",
        "            pcX[i] *= self.pxC[pixel, i]\n",
        "          else:\n",
        "            pcX[i] *= 1-self.pxC[pixel, i]\n",
        "      ## Your code above\n",
        "      #################\n",
        "    return np.argmax(pcX)"
      ],
      "execution_count": null,
      "outputs": []
    },
    {
      "cell_type": "markdown",
      "metadata": {
        "id": "cO9h_Q8bbAgF"
      },
      "source": [
        "## Αξιολόγηση του Naive Bayes"
      ]
    },
    {
      "cell_type": "code",
      "metadata": {
        "colab": {
          "base_uri": "https://localhost:8080/",
          "height": 750
        },
        "id": "2PzuaP48amDv",
        "outputId": "7ecc6572-527e-4a64-c3d2-e27bd17bbbb4"
      },
      "source": [
        "nb = NaiveBayes(x_train_r,y_train)\n",
        "preds = [ nb.predict(i) for i in x_test_r[:100]]\n",
        "eval = Evaluate(y_test[:100], preds, x_test_r[:100])\n",
        "eval.get_evaluation_report()"
      ],
      "execution_count": null,
      "outputs": [
        {
          "output_type": "stream",
          "text": [
            "precision : 0.8400974025974026\n",
            "recall : 0.850108225108225\n",
            "f1 : 0.8261529454950507\n",
            "accuracy : 0.85\n",
            "Confusion matrix: \n",
            "[[ 7  0  0  0  0  0  0  0  1  0]\n",
            " [ 0 13  0  1  0  0  0  0  0  0]\n",
            " [ 0  0  7  1  0  0  0  0  0  0]\n",
            " [ 0  0  1 10  0  0  0  0  0  0]\n",
            " [ 1  0  0  0 12  0  0  0  0  1]\n",
            " [ 0  0  0  2  1  4  0  0  0  0]\n",
            " [ 0  0  2  0  0  0  8  0  0  0]\n",
            " [ 0  0  1  0  0  0  0 13  0  1]\n",
            " [ 0  0  0  0  0  0  0  0  2  0]\n",
            " [ 0  0  0  0  1  0  0  0  1  9]]\n",
            "Some images with wrong predictions\n"
          ],
          "name": "stdout"
        },
        {
          "output_type": "display_data",
          "data": {
            "image/png": "[encoded data removed]",
            "text/plain": [
              "<Figure size 720x720 with 15 Axes>"
            ]
          },
          "metadata": {
            "tags": [],
            "needs_background": "light"
          }
        }
      ]
    },
    {
      "cell_type": "markdown",
      "metadata": {
        "id": "xMUHg-dubFa2"
      },
      "source": [
        "## Έτοιμος Naive Bayes\n",
        "\n",
        "Όπως με τους περισσότερους αλγορίθμους μηχανικής μάθησης, υπάρχουν έτοιμες βελτιστοποιημένες υλοποιήσεις για τον Naive Bayes. Παρακάτω ο Gaussian Naive Bayes από το SKLearn. Σε αντίθεση με τη δική μας υλοποίηση, ο συγκεκριμένος δουλεύει και με συνεχή δεδομένα, αφού πρώτα κάνει την υπόθεση πως κάθε χαρακτηριστικό ακολουθεί κανονική κατανομή: [documentation](https://scikit-learn.org/stable/modules/generated/sklearn.naive_bayes.GaussianNB.html)"
      ]
    },
    {
      "cell_type": "code",
      "metadata": {
        "colab": {
          "base_uri": "https://localhost:8080/",
          "height": 863
        },
        "id": "Lc7CCDfSbCPh",
        "outputId": "eb6d3a3a-0982-4a5e-ecf1-93819888e828"
      },
      "source": [
        "from sklearn.naive_bayes import GaussianNB\n",
        "\n",
        "gnb = GaussianNB(var_smoothing=1e-05)\n",
        "y_pred = gnb.fit(x_train, y_train).predict(x_test[:100])\n",
        "\n",
        "eval = Evaluate(y_test[:100], y_pred, x_test[:100])\n",
        "eval.get_evaluation_report()"
      ],
      "execution_count": null,
      "outputs": [
        {
          "output_type": "stream",
          "text": [
            "precision : 0.63245670995671\n",
            "recall : 0.6549783549783549\n",
            "f1 : 0.6078362729224798\n",
            "accuracy : 0.69\n",
            "Confusion matrix: \n",
            "[[ 8  0  0  0  0  0  0  0  0  0]\n",
            " [ 0 14  0  0  0  0  0  0  0  0]\n",
            " [ 1  0  4  1  0  0  1  0  1  0]\n",
            " [ 0  0  1  6  0  0  1  0  2  1]\n",
            " [ 1  1  0  0  6  0  0  0  0  6]\n",
            " [ 2  0  0  0  1  0  0  0  4  0]\n",
            " [ 0  0  0  0  0  0 10  0  0  0]\n",
            " [ 0  0  1  0  0  0  0 10  0  4]\n",
            " [ 0  0  0  0  0  1  0  0  1  0]\n",
            " [ 0  0  0  0  0  0  0  1  0 10]]\n",
            "Some images with wrong predictions\n"
          ],
          "name": "stdout"
        },
        {
          "output_type": "display_data",
          "data": {
            "image/png": "[encoded data removed]",
            "text/plain": [
              "<Figure size 720x720 with 20 Axes>"
            ]
          },
          "metadata": {
            "tags": [],
            "needs_background": "light"
          }
        }
      ]
    },
    {
      "cell_type": "markdown",
      "metadata": {
        "id": "KaecLreybI-3"
      },
      "source": [
        "## Σύγκριση υλοποιήσεων\n",
        "\n",
        "Όμοια με πριν θα συγκρίνετε τα αποτελέσματα και τους χρόνους εκτέλεσης για τις δύο υλοποιήσεις. Για την έτοιμη υλοποίηση του sklearn δοκιμάστε και το σύνολο x_train_r όπου είναι στρογγυλοποιήμενα τα pixels και το σύνολο x_train οπου παίρνουν συνεχείς τιμές. Σχολιάστε την επίδοση σε κάθε περίπτωση. Ποιες από τις παραδοχές που κάναμε δεν ισχύουν;"
      ]
    },
    {
      "cell_type": "code",
      "metadata": {
        "colab": {
          "base_uri": "https://localhost:8080/"
        },
        "id": "Lz-k1DL-bG9v",
        "outputId": "4c006c30-182b-40b4-da93-890e0537c7ff"
      },
      "source": [
        "%%time\n",
        "nb = NaiveBayes(x_train_r,y_train)\n",
        "preds = [ nb.predict(i) for i in x_test_r[:100]]"
      ],
      "execution_count": null,
      "outputs": [
        {
          "output_type": "stream",
          "text": [
            "CPU times: user 9.69 s, sys: 2 ms, total: 9.69 s\n",
            "Wall time: 9.74 s\n"
          ],
          "name": "stdout"
        }
      ]
    },
    {
      "cell_type": "code",
      "metadata": {
        "colab": {
          "base_uri": "https://localhost:8080/"
        },
        "id": "tHoJZC5RbK60",
        "outputId": "e79fd73e-9d88-44a0-df6b-32fa2c205a51"
      },
      "source": [
        "%%time\n",
        "gnb = GaussianNB()\n",
        "y_pred = gnb.fit(x_train, y_train).predict(x_test[:100])"
      ],
      "execution_count": null,
      "outputs": [
        {
          "output_type": "stream",
          "text": [
            "CPU times: user 307 ms, sys: 3.98 ms, total: 311 ms\n",
            "Wall time: 313 ms\n"
          ],
          "name": "stdout"
        }
      ]
    },
    {
      "cell_type": "markdown",
      "metadata": {
        "id": "SAmP4BrCbOB9"
      },
      "source": [
        "## Σχολιασμός\n",
        "Παρατηρούμε ότι η ακρίβεια του ταξινομητή μας είναι μεγαλύτερη από την ακρίβεια του έτοιμου ταξινομητή, παρότι ο χρόνος εκτέλεσης είναι πολύ μεγαλύτερος. Όμως, αυξάνοντας την παράμετρο smoothing στον έτοιμο ταξινομητή, παρατηρούμε ότι μέχρι κάποια τιμή της παραμέτρου αυξάνεται η ακρίβεια του ταξινομητή. Αυτό μπορεί να ισχύει επειδή τα δεδομένα μας είναι σχετικά λίγα."
      ]
    },
    {
      "cell_type": "markdown",
      "metadata": {
        "id": "Vvw-OUkjbRb9"
      },
      "source": [
        "#4ο Μέρος: Multi-Layer Perceptron \n",
        "\n",
        "Σε αυτό το σημείο της άσκησης θα επιλύσετε το παραπάνω πρόβλημα κατασκευάζοντας ένα πολύεπίπεδο νευρωνικό δίκτυο. Αρχικά θα υλοποιήσετε το νευρωνικό χωρίς να χρησιμοποιήσετε κάποια έτοιμη κλάση κάποιας βιβλιοθήκης (όπως sckit-learn, keras), ενώ στην συνέχεια θα κατασκευάσετε το ίδιο σύστημα με την χρήση της βιβλιοθήκης sckit-learn. "
      ]
    },
    {
      "cell_type": "markdown",
      "metadata": {
        "id": "vovDwSIPbTiE"
      },
      "source": [
        "Στο παρακάτω κελί κώδικα σας δίνεται η βασική δομή του επιπέδου ενός πολυεπίπεδου νευρωνικού δικτύου. Η παρακάτω κλάση δεν υλοποιεί κάποιο πραγματικό επίπεδο (όπως Dense) αλλά αυτή χρησιμοποιείται για την παρουσίαση των λειτουργιών κάθε επιπέδου.\n",
        "\n",
        "Ουσιαστικά κάθε επίπεδο ενός νευρωνικού δικτύου πρέπει να είναι σε θέση να κάνει: \n",
        "\n",
        "\n",
        "1.   Για μια είσοδο να υπολογίζει την έξοδο κάθε νευρώνα. Αυτό επιτυγχάνεται μέσω της μεθόδου forward η όποια δέχεται ως όρισμα μια είσοδο  και επιστρέφει έναν πίνακα με τις εξόδους κάθε νευρώνα του επιπέδου. \n",
        "\n",
        "2.   Να υπολογίζει τις μεταβολές οι όποιες πρέπει να γίνουν στα βάρη κάθε επιπέδου, ανάλογα με το πόσο καλά- κοντινά ήταν τα αποτελέσματα του επιπέδου στα πραγματικά. Η λειτουργία αυτή θα μας βοηθήσει την ανανέωση των βαρών του δικτύου και συνεπώς στην σωστή εκπαίδευσή του. Η λειτουργικότητα αυτή επιτυγχάνεται μέσω της μεθόδου backward. \n",
        "\n",
        "  \n",
        "\n",
        "Η λειτουργικότητα συνεπώς κάθε επιπέδου καθορίζεται από την συνάρτηση που υλοποιείται στην μέθοδο forward. Ένα instance της παρακάτω κλάσης συνεπώς  επιστρέφει ως έξοδο την είσοδο κάθε νευρώνα (ταυτοτική συνάρτηση) όποτε δεν προσφέρει κάποια υψηλή λειτουργικότητα. Στην παρακάτω κλάση δεν έχετε να προσθέσετε κάτι, απλά να μελετήσετε και να καταλάβετε την δομή που πρέπει να έχει ένα επίπεδο. "
      ]
    },
    {
      "cell_type": "code",
      "metadata": {
        "id": "jgx1VIMmbMQP"
      },
      "source": [
        "class Layer:\n",
        "    def __init__(self):\n",
        "        \"\"\"Here we can initialize layer parameters (if any) and auxiliary stuff.\"\"\"\n",
        "        # A dummy layer does nothing\n",
        "        pass\n",
        "    \n",
        "    def forward(self, input):\n",
        "        \"\"\"\n",
        "        Takes input data of shape [batch, input_units], returns output data [batch, output_units]\n",
        "        \"\"\"\n",
        "        # A dummy layer just returns whatever it gets as input.\n",
        "        return input\n",
        "\n",
        "    def backward(self, input, grad_output):\n",
        "        # The gradient of a dummy layer is precisely grad_output, but we'll write it more explicitly\n",
        "        num_units = input.shape[1]\n",
        "        \n",
        "        d_layer_d_input = np.eye(num_units)\n",
        "        \n",
        "        return np.dot(grad_output, d_layer_d_input) # chain rule"
      ],
      "execution_count": null,
      "outputs": []
    },
    {
      "cell_type": "markdown",
      "metadata": {
        "id": "r1iQCroAbV-F"
      },
      "source": [
        "Στο σημείο αυτό αξίζει να αναφερθεί ότι για την σωστή εκπαίδευση του δικτύου (σε πρακτικό επίπεδο) πρέπει να διαχωριστεί η έξοδος κάθε νευρώνα πριν και μετά την συνάρτηση ενεργοποίησης. Έτσι η παραπάνω μέθοδος forward της κλάσης layer πρέπει να υπολογίζει την έξοδο του επιπέδου χωρίς την συνάρτηση ενεργοποίησης και κάποια άλλη κλάση να υπολογίζει το αποτέλεσμα με αυτή.  \n",
        "\n",
        "  \n",
        "\n",
        "Έκτος όμως από την εκπαίδευση του δικτύου, ο διαχωρισμός αυτός μας βοηθά σημαντικά και κατά την φάση σχεδιασμού της  αρχιτεκτονικής μιας και μας δίνει την δυνατότητα να αλλάζουμε την συνάρτηση ενεργοποίησης χωρίς κάθε φόρα να πρέπει να αλλάξουμε ολόκληρη την κλάση layer. Για τους παραπάνω λόγους θα χειριζόμαστε την συνάρτηση ενεργοποίησης σαν ένα ξεχωριστό επίπεδο με τις δικές της μεθόδους: forward, backward.  \n",
        "\n",
        "  \n",
        "\n",
        "Παρακάτω παρουσιάζεται η κλάση η όποια υλοποιεί την λειτουργικότητα της συνάρτησης ενεργοποίησης [ReLU](https://en.wikipedia.org/wiki/Rectifier_(neural_networks)).  \n",
        "\n",
        "  \n",
        "\n",
        "Με την ίδια λογική μπορούμε να υλοποιήσουμε οποιαδήποτε άλλη συνάρτηση ενεργοποίησης θέλουμε π.χ. sigmoid, tanh κ.ο.κ. και επιπλέον μπορούμε να τις εναλλάσσουμε μεταξύ επιπέδων χωρίς δυσκολία. "
      ]
    },
    {
      "cell_type": "code",
      "metadata": {
        "id": "6P33228VbYIf"
      },
      "source": [
        "class ReLU(Layer):\n",
        "    def __init__(self):\n",
        "        \"\"\"ReLU layer simply applies elementwise rectified linear unit to all inputs\"\"\"\n",
        "        pass\n",
        "    \n",
        "    def forward(self, input):\n",
        "        \"\"\"Apply elementwise ReLU to [batch, input_units] matrix\"\"\"\n",
        "        relu_forward = np.maximum(0,input)\n",
        "        return relu_forward\n",
        "    \n",
        "    def backward(self, input, grad_output):\n",
        "        \"\"\"Compute gradient of loss w.r.t. ReLU input\"\"\"\n",
        "        relu_grad = input > 0\n",
        "        return grad_output*relu_grad"
      ],
      "execution_count": null,
      "outputs": []
    },
    {
      "cell_type": "markdown",
      "metadata": {
        "id": "Rrrub_76ba19"
      },
      "source": [
        "Η κλάση Dense υλοποιεί ένα επίπεδο dense όπου η έξοδος κάθε νευρώνα (χωρίς τη  συνάρτηση ενεργοποίησης) υπολογίζεται από την παρακάτω εξίσωση: \n",
        "\n",
        "  \n",
        "\n",
        "  \n",
        "\n",
        "$$ z(x) = w^Τx + b $$ \n",
        "\n",
        "  \n",
        "\n",
        "όπου $w$, $b$ είναι τα βάρη του επιπέδου.   \n",
        "\n",
        "  \n",
        "\n",
        "Συνεπώς το δίκτυο είναι απαραίτητοί να διατηρεί 2 τους δυο πίνακες με τα βάρη οι όποιο στην μέθοδο forward θα χρησιμοποιούνται για τον υπολογισμό της εξόδου και θα ανανεώνονται από την μέθοδο backward. Οι πίνακες αυτοί δημιουργούνται κατά την κατασκευή κάθε στιγμιότυπου και αρχικοποιούνται, ο πρώτος τυχαία και ο δεύτερος με μηδενικά.  Στο σημείο αυτό καλείστε να συμπληρώσετε την μέθοδο forward με κατάλληλο τρόπο ώστε να επιτυγχάνεται επιθυμητή λειτουργικότητα. "
      ]
    },
    {
      "cell_type": "code",
      "metadata": {
        "id": "HEnuIuOHbZge"
      },
      "source": [
        "class Dense(Layer):\n",
        "    def __init__(self, input_units, output_units, learning_rate=0.1):\n",
        "        \"\"\"\n",
        "        Weight Initialization\n",
        "        \"\"\"\n",
        "        self.input_units = input_units\n",
        "        self.output_units = output_units\n",
        "        \n",
        "        self.learning_rate = learning_rate\n",
        "        self.weights = np.random.normal(loc=0.0, \n",
        "                                        scale = np.sqrt(2/(input_units+output_units)), \n",
        "                                        size = (input_units,output_units))\n",
        "        self.biases = np.zeros(output_units)\n",
        "        \n",
        "    def forward(self,input):\n",
        "        \"\"\"\n",
        "        Perform an affine transformation:\n",
        "        f(x) = <W*x> + b\n",
        "        \n",
        "        input shape: [number of inputs, input units]\n",
        "        output shape: [number of inputs, output units]\n",
        "        \"\"\"\n",
        "        ###################\n",
        "        ## Your code below\n",
        "        ## hint: numpy.dot\n",
        "\n",
        "        output = np.zeros((input.shape[0], self.output_units, ))\n",
        "        W_T = np.transpose(self.weights)\n",
        "        for i in range(input.shape[0]):\n",
        "          output[i] = np.dot(W_T, input[i]) + self.biases\n",
        "\n",
        "        ## Your code above\n",
        "        ##################\n",
        "        return output\n",
        "    \n",
        "    def backward(self,input,grad_output):\n",
        "        # compute d f / d x = d f / d dense * d dense / d x\n",
        "        # where d dense/ d x = weights transposed\n",
        "        grad_input = np.dot(grad_output, self.weights.T)\n",
        "        \n",
        "        # compute gradient w.r.t. weights and biases\n",
        "        grad_weights = np.dot(input.T, grad_output)\n",
        "        grad_biases = grad_output.mean(axis=0)*input.shape[0]\n",
        "        \n",
        "        assert grad_weights.shape == self.weights.shape and grad_biases.shape == self.biases.shape\n",
        "        \n",
        "        # Here we perform a stochastic gradient descent step. \n",
        "        self.weights = self.weights - self.learning_rate * grad_weights\n",
        "        self.biases = self.biases - self.learning_rate * grad_biases\n",
        "        \n",
        "        return grad_input"
      ],
      "execution_count": null,
      "outputs": []
    },
    {
      "cell_type": "markdown",
      "metadata": {
        "id": "Ml2jvLeybeRe"
      },
      "source": [
        "Οι παρακάτω συναρτήσεις χρησιμοποιούνται για να μπορεί το δίκτυο να ελέγχει πόσο κοντά βρίσκονται τα αποτελέσματα του στα πραγματικά (Loss function). Όπως είναι λογικό υπάρχουν διαφορετικές τέτοιες συναρτήσεις ανάλογα το πρόβλημα που καλείται να λύσει το δίκτυο. Η παρακάτω συνάρτηση ονομάζεται [softmax](https://en.wikipedia.org/wiki/Softmax_function) και χρησιμοποιείται κατά κύριο λόγο σε προβλήματα ταξινόμησης όπως το συγκεκριμένο. Η softmax δέχεται σαν είσοδο τις ενεργοποιήσεις του τελευταίου επιπέδου και επιστρέφει μια κατανομή πιθανοτήτων για κάθε μια από τις κλάσεις εξόδου (π.χ. κλάση 0 έχει πιθανότητα 0.001,  η κλάση 1 έχει 0.9 κ.ο.κ.).  "
      ]
    },
    {
      "cell_type": "code",
      "metadata": {
        "id": "qT7nl_1Gbc0B"
      },
      "source": [
        "def softmax_crossentropy_with_logits(logits,reference_answers):\n",
        "    \"\"\"Compute crossentropy from logits[batch,n_classes] and ids of correct answers\"\"\"\n",
        "    logits_for_answers = logits[np.arange(len(logits)),reference_answers]\n",
        "    xentropy = - logits_for_answers + np.log(np.sum(np.exp(logits),axis=-1))\n",
        "    return xentropy\n",
        "\n",
        "def grad_softmax_crossentropy_with_logits(logits,reference_answers):\n",
        "    \"\"\"Compute crossentropy gradient from logits[batch,n_classes] and ids of correct answers\"\"\"\n",
        "    ones_for_answers = np.zeros_like(logits)\n",
        "    ones_for_answers[np.arange(len(logits)),reference_answers] = 1\n",
        "    \n",
        "    softmax = np.exp(logits) / np.exp(logits).sum(axis=-1,keepdims=True)\n",
        "    \n",
        "    return (- ones_for_answers + softmax) / logits.shape[0]"
      ],
      "execution_count": null,
      "outputs": []
    },
    {
      "cell_type": "markdown",
      "metadata": {
        "id": "5XnSJjxYbhdX"
      },
      "source": [
        "Έχοντας υλοποιήσει τις κλάσεις Dense και ReLU μπορούμε πλέον να κατασκευάσουμε μια κλάση η όποια θα ορίζει ένα πολυεπίπεδο νευρωνικό δίκτυο (MLP). Το δίκτυο αυτό ουσιαστικά αποτελείται από μια ακολουθία Dense επιπέδων όπου το κάθε ένα (εκτός του τελευταίου) ακολουθείται από μια μη-γραμμική συνάρτηση ενεργοποίησης (ReLU). Όμοια με πριν, η κλάση αυτή πρέπει να περιέχει μια μέθοδο forward η όποια θα δέχεται μια είσοδο (εδώ μια εικόνα flatten) και θα επιστρέφει μια έξοδο (εδώ μια κατανομή 10 πιθανοτήτων). Παράλληλα πρέπει να περιέχει και μια μέθοδο fit, η όποια θα εκπαιδεύει το δίκτυο δεδομένου ενός τέτοιου συνόλου (εδώ του x_train). Στο σημείο αυτό χρησιμοποιούνται οι μέθοδοι backward που έχουν οριστεί για κάθε ένα επίπεδο (δεν χρειάζεται να συμπληρώσετε κάτι).  Τέλος θα ήταν βοηθητικό να έχουμε και μια μέθοδο η όποια θα μετατρέπει την κατανομή εξόδου στην επιστρεφόμενη κλάση (predict) για κάποιο ή κάποια στιγμιότυπα του συνόλου δεδομένων.   \n",
        "\n",
        "Το δίκτυο όπως αναφέρθηκε και προηγουμένως αποτελείται από έναν αριθμό Dense επιπέδων κάθε ένα από τα όποια ακολουθείται από μια συνάρτηση ReLU. Η κατασκευή των επιπέδων γίνεται κατά την στιγμή δημιουργίας του δικτύου, όπου δίνεται ως είσοδος μια λίστα με το μέγεθος κάθε επιπέδου, μαζί με το μέγεθος εισόδου (εδώ 28*28). Έτσι για παράδειγμα η παρακάτω γραμμή κώδικα:  \n",
        "``` \n",
        "net = MLP([100, 200, 100, 10], 784)  \n",
        "```  \n",
        "κατασκευάζει ένα MLP το όποιο αποτελείται από 4 επίπεδα με μέγεθος 100, 200, 100, 10. Ο αριθμός των επιπέδων καθώς και του μεγέθους καθενός από αυτά είναι ελεύθερος να οριστεί από τον χρήστη.   \n",
        "Στον constructor της κλάσης ουσιαστικά ορίζεται μια λίστα η όποια περιέχει κάθε ένα από τα επίπεδα που πρέπει να οριστούν, π.χ. για το παραπάνω παράδειγμα η μεταβλητή net.network περιέχει τα εξής στιγμιότυπα των κλάσεων:  \n",
        "\n",
        "``` \n",
        "[Dense(100), ReLU(), Dense(200), ReLU(), Dense(100), ReLU(), Dense(10)]  \n",
        "```  \n",
        "\n",
        "Συνεπώς η λειτουργικότητα του δικτύου όπως και πριν πρέπει να οριστεί στην μέθοδο forward. Στο σημείο αυτό καλείστε να συμπληρώσετε την μέθοδο αυτή έτσι ώστε το δίκτυο να λειτουργεί όπως πρέπει, δηλαδή στο παράδειγμά μας η είσοδος να περνά από το επίπεδο Dense(100), μετά από το ReLU(), στην συνέχεια από το Dense(200) κ.ο.κ. μέχρι και το τελευταίο επίπεδο.  Ο αλγόριθμος αυτός παρουσιάζεται και σε ψευδοκώδικα στην διαφάνεια 33 του μαθήματος. "
      ]
    },
    {
      "cell_type": "code",
      "metadata": {
        "id": "MHHcg1unbf21"
      },
      "source": [
        "class MLP:\n",
        "    def __init__(self, shapes, input_dim):\n",
        "        '''\n",
        "        Κατασκευή του MLP. Τα επίπεδα και το μέγεθός τους ορίζεται από την μεταβλήτη shape, ενώ\n",
        "        το μέγεθος της εισόδου ορίζεται από την μεταβλήτη input_dim\n",
        "        '''\n",
        "        self.shapes = shapes\n",
        "        self.network = [Dense(input_dim, shapes[0])]\n",
        "        self.network.append(ReLU())\n",
        "        for i in range(1, len(self.shapes) - 1):\n",
        "            self.network.append(Dense(shapes[i-1],shapes[i]))\n",
        "            self.network.append(ReLU())\n",
        "        self.network.append(Dense(shapes[i],shapes[-1]))\n",
        "\n",
        "    def forward(self, X):\n",
        "        \"\"\"\n",
        "        Αγόριθμος διφάνειας 33\n",
        "        \"\"\"\n",
        "        activations = []\n",
        "        input = X\n",
        "        # Looping through each layer\n",
        "        for l in self.network:\n",
        "            ###################\n",
        "            ## Your code below\n",
        "            # hint: τροφοδοτούμε την έξοδο κάθε επιπέδου στο επόμενο\n",
        "            \n",
        "            input = l.forward(input)\n",
        "            activations.append(input)\n",
        "\n",
        "            ## Your code above\n",
        "            ##################        \n",
        "        assert len(activations) == len(self.network)\n",
        "        return activations\n",
        "\n",
        "    def predict(self,X):\n",
        "        \"\"\"\n",
        "        Προβλέπει την έξοδο του δικτύου για ένα ή περισσότερα στιγμιότυπα εισόδου\n",
        "        \"\"\"\n",
        "        logits = self.forward(X)[-1]\n",
        "        return logits.argmax(axis=-1)\n",
        "\n",
        "    def fit(self, X, y):\n",
        "        # Get the layer activations\n",
        "        layer_activations = self.forward(X)\n",
        "        layer_inputs = [X]+layer_activations  #layer_input[i] is an input for network[i]\n",
        "        logits = layer_activations[-1]\n",
        "        \n",
        "        # Compute the loss and the initial gradient\n",
        "        loss = softmax_crossentropy_with_logits(logits,y)\n",
        "        loss_grad = grad_softmax_crossentropy_with_logits(logits,y)\n",
        "        \n",
        "        # Propagate gradients through the network\n",
        "        # Reverse propogation as this is backprop\n",
        "        for layer_index in range(len(self.network))[::-1]:\n",
        "            layer = self.network[layer_index]\n",
        "            loss_grad = layer.backward(layer_inputs[layer_index],loss_grad) #grad w.r.t. input, also weight updates\n",
        "        return np.mean(loss)"
      ],
      "execution_count": null,
      "outputs": []
    },
    {
      "cell_type": "markdown",
      "metadata": {
        "id": "6zCBcKqvbm4t"
      },
      "source": [
        "## Αξιολόγηση ενός Multi-Layer Perceptron\n",
        "\n",
        "Αφού έχουμε κατασκευάσει τα παραπάνω είμαστε πλέον σε θέση να εκπαιδεύσουμε το MLP. Αυτό γίνεται καλώντας την μέθοδο fit. Στο παρακάτω κελί κώδικα ορίζεται το MLP του παραπάνω παραδείγματος και εκπαιδεύεται για 25 εποχές. Στο τέλος κάθε εποχής παρουσιάζονται τα αποτελέσματα του μαζί με μια γραφική των train και test accuracy. "
      ]
    },
    {
      "cell_type": "code",
      "metadata": {
        "id": "4jw-8qN6bjQG",
        "colab": {
          "base_uri": "https://localhost:8080/",
          "height": 1000
        },
        "outputId": "f307888e-0dfc-4dfb-edae-191ea6a3b988"
      },
      "source": [
        "from IPython.display import clear_output\n",
        "import numpy as np\n",
        "\n",
        "network = MLP([400, 300, 100, 10], 28*28)\n",
        "\n",
        "train_log = []\n",
        "val_log = []\n",
        "\n",
        "#Αυτά πρέπει να τρέχουν αφού έχετε φτιάξει σωστά τον κώδικα της MLP\n",
        "for epoch in range(25):\n",
        "      network.fit(x_train,y_train)\n",
        "    \n",
        "      train_log.append(np.mean(network.predict(x_train)==y_train))\n",
        "      val_log.append(np.mean(network.predict(x_test)==y_test))\n",
        "    \n",
        "      clear_output()\n",
        "      print(\"Epoch\",epoch)\n",
        "      print(\"Train accuracy:\",train_log[-1])\n",
        "      print(\"Val accuracy:\",val_log[-1])\n",
        "      plt.plot(train_log,label='train accuracy')\n",
        "      plt.plot(val_log,label='val accuracy')\n",
        "      plt.legend(loc='best')\n",
        "      plt.grid()\n",
        "      plt.show()\n",
        "\n",
        "y_pred = network.predict(x_test)\n",
        "\n",
        "eval = Evaluate(y_test, y_pred, x_test)\n",
        "eval.get_evaluation_report()"
      ],
      "execution_count": null,
      "outputs": [
        {
          "output_type": "stream",
          "text": [
            "Epoch 24\n",
            "Train accuracy: 0.7999\n",
            "Val accuracy: 0.8063\n"
          ],
          "name": "stdout"
        },
        {
          "output_type": "display_data",
          "data": {
            "image/png": "[encoded data removed]",
            "text/plain": [
              "<Figure size 432x288 with 1 Axes>"
            ]
          },
          "metadata": {
            "tags": [],
            "needs_background": "light"
          }
        },
        {
          "output_type": "stream",
          "text": [
            "precision : 0.8128880588611169\n",
            "recall : 0.8010410157197635\n",
            "f1 : 0.7967455428314244\n",
            "accuracy : 0.8063\n",
            "Confusion matrix: \n",
            "[[ 929    0   10    1    2    7   24    1    6    0]\n",
            " [   0 1080    9   18    0    0    4    1   23    0]\n",
            " [  23   63  765   27   20    2   57   19   53    3]\n",
            " [   3    4   22  885    0   12   11   17   40   16]\n",
            " [   4   13    6    7  781    0   43   17   15   96]\n",
            " [  37   18   20  218   26  395   29   39   87   23]\n",
            " [  34   10    6    3    7    6  888    0    4    0]\n",
            " [   6   40   27    0    7    0    8  898   12   30]\n",
            " [  14   29   20   92   18   15   20   14  720   32]\n",
            " [  17   14    7   25   99    4    7   91   23  722]]\n",
            "Some images with wrong predictions\n"
          ],
          "name": "stdout"
        },
        {
          "output_type": "display_data",
          "data": {
            "image/png": "[encoded data removed]",
            "text/plain": [
              "<Figure size 720x720 with 20 Axes>"
            ]
          },
          "metadata": {
            "tags": [],
            "needs_background": "light"
          }
        }
      ]
    },
    {
      "cell_type": "code",
      "metadata": {
        "colab": {
          "base_uri": "https://localhost:8080/",
          "height": 1000
        },
        "id": "ZZ-anHqJ0vbv",
        "outputId": "839f5145-6a94-41f4-8b36-004538e7d889"
      },
      "source": [
        "from IPython.display import clear_output\n",
        "import numpy as np\n",
        "\n",
        "network = MLP([100, 200, 100, 10], 28*28)\n",
        "\n",
        "train_log = []\n",
        "val_log = []\n",
        "\n",
        "#Αυτά πρέπει να τρέχουν αφού έχετε φτιάξει σωστά τον κώδικα της MLP\n",
        "for epoch in range(25):\n",
        "      network.fit(x_train,y_train)\n",
        "    \n",
        "      train_log.append(np.mean(network.predict(x_train)==y_train))\n",
        "      val_log.append(np.mean(network.predict(x_test)==y_test))\n",
        "    \n",
        "      clear_output()\n",
        "      print(\"Epoch\",epoch)\n",
        "      print(\"Train accuracy:\",train_log[-1])\n",
        "      print(\"Val accuracy:\",val_log[-1])\n",
        "      plt.plot(train_log,label='train accuracy')\n",
        "      plt.plot(val_log,label='val accuracy')\n",
        "      plt.legend(loc='best')\n",
        "      plt.grid()\n",
        "      plt.show()\n",
        "\n",
        "y_pred = network.predict(x_test)\n",
        "\n",
        "eval = Evaluate(y_test, y_pred, x_test)\n",
        "eval.get_evaluation_report()"
      ],
      "execution_count": null,
      "outputs": [
        {
          "output_type": "stream",
          "text": [
            "Epoch 24\n",
            "Train accuracy: 0.6814\n",
            "Val accuracy: 0.6946\n"
          ],
          "name": "stdout"
        },
        {
          "output_type": "display_data",
          "data": {
            "image/png": "[encoded data removed]",
            "text/plain": [
              "<Figure size 432x288 with 1 Axes>"
            ]
          },
          "metadata": {
            "tags": [],
            "needs_background": "light"
          }
        },
        {
          "output_type": "stream",
          "text": [
            "precision : 0.72219941373375\n",
            "recall : 0.6848010868483395\n",
            "f1 : 0.655176065513866\n",
            "accuracy : 0.6946\n",
            "Confusion matrix: \n",
            "[[ 935    0    0    7    1    0   33    0    4    0]\n",
            " [   0 1066   26    8    1    0    6    0   26    2]\n",
            " [  33   61  717   26   12    0  124   13   45    1]\n",
            " [  12   22   32  820    3    2   33   10   51   25]\n",
            " [   7   31    6    1  583    0  105   10    3  236]\n",
            " [ 137   45   22  219   29   25   84    1  127  203]\n",
            " [  41   19   23    3   10    0  856    1    5    0]\n",
            " [   4   72   27    6    8    0   14  676   39  182]\n",
            " [  44   75   16  119   31    3   52   22  521   91]\n",
            " [  15   31   10   18   84    0   40   41   23  747]]\n",
            "Some images with wrong predictions\n"
          ],
          "name": "stdout"
        },
        {
          "output_type": "display_data",
          "data": {
            "image/png": "[encoded data removed]",
            "text/plain": [
              "<Figure size 720x720 with 20 Axes>"
            ]
          },
          "metadata": {
            "tags": [],
            "needs_background": "light"
          }
        }
      ]
    },
    {
      "cell_type": "code",
      "metadata": {
        "colab": {
          "base_uri": "https://localhost:8080/",
          "height": 350
        },
        "id": "Fy9x-AsB4eJu",
        "outputId": "6b9ddf55-cf73-4e67-f3f2-5a2cf595f3a6"
      },
      "source": [
        "from IPython.display import clear_output\n",
        "import numpy as np\n",
        "\n",
        "network = MLP([100, 10], 28*28)\n",
        "\n",
        "train_log = []\n",
        "val_log = []\n",
        "\n",
        "#Αυτά πρέπει να τρέχουν αφού έχετε φτιάξει σωστά τον κώδικα της MLP\n",
        "for epoch in range(25):\n",
        "      network.fit(x_train,y_train)\n",
        "    \n",
        "      train_log.append(np.mean(network.predict(x_train)==y_train))\n",
        "      val_log.append(np.mean(network.predict(x_test)==y_test))\n",
        "    \n",
        "      clear_output()\n",
        "      print(\"Epoch\",epoch)\n",
        "      print(\"Train accuracy:\",train_log[-1])\n",
        "      print(\"Val accuracy:\",val_log[-1])\n",
        "      plt.plot(train_log,label='train accuracy')\n",
        "      plt.plot(val_log,label='val accuracy')\n",
        "      plt.legend(loc='best')\n",
        "      plt.grid()\n",
        "      plt.show()\n",
        "\n",
        "y_pred = network.predict(x_test)\n",
        "\n",
        "eval = Evaluate(y_test, y_pred, x_test)\n",
        "eval.get_evaluation_report()"
      ],
      "execution_count": null,
      "outputs": [
        {
          "output_type": "error",
          "ename": "UnboundLocalError",
          "evalue": "ignored",
          "traceback": [
            "\u001b[0;31m---------------------------------------------------------------------------\u001b[0m",
            "\u001b[0;31mUnboundLocalError\u001b[0m                         Traceback (most recent call last)",
            "\u001b[0;32m<ipython-input-68-015a79f02c06>\u001b[0m in \u001b[0;36m<module>\u001b[0;34m()\u001b[0m\n\u001b[1;32m      2\u001b[0m \u001b[0;32mimport\u001b[0m \u001b[0mnumpy\u001b[0m \u001b[0;32mas\u001b[0m \u001b[0mnp\u001b[0m\u001b[0;34m\u001b[0m\u001b[0;34m\u001b[0m\u001b[0m\n\u001b[1;32m      3\u001b[0m \u001b[0;34m\u001b[0m\u001b[0m\n\u001b[0;32m----> 4\u001b[0;31m \u001b[0mnetwork\u001b[0m \u001b[0;34m=\u001b[0m \u001b[0mMLP\u001b[0m\u001b[0;34m(\u001b[0m\u001b[0;34m[\u001b[0m\u001b[0;36m100\u001b[0m\u001b[0;34m,\u001b[0m \u001b[0;36m10\u001b[0m\u001b[0;34m]\u001b[0m\u001b[0;34m,\u001b[0m \u001b[0;36m28\u001b[0m\u001b[0;34m*\u001b[0m\u001b[0;36m28\u001b[0m\u001b[0;34m)\u001b[0m\u001b[0;34m\u001b[0m\u001b[0;34m\u001b[0m\u001b[0m\n\u001b[0m\u001b[1;32m      5\u001b[0m \u001b[0;34m\u001b[0m\u001b[0m\n\u001b[1;32m      6\u001b[0m \u001b[0mtrain_log\u001b[0m \u001b[0;34m=\u001b[0m \u001b[0;34m[\u001b[0m\u001b[0;34m]\u001b[0m\u001b[0;34m\u001b[0m\u001b[0;34m\u001b[0m\u001b[0m\n",
            "\u001b[0;32m<ipython-input-65-8525a4518be4>\u001b[0m in \u001b[0;36m__init__\u001b[0;34m(self, shapes, input_dim)\u001b[0m\n\u001b[1;32m     11\u001b[0m             \u001b[0mself\u001b[0m\u001b[0;34m.\u001b[0m\u001b[0mnetwork\u001b[0m\u001b[0;34m.\u001b[0m\u001b[0mappend\u001b[0m\u001b[0;34m(\u001b[0m\u001b[0mDense\u001b[0m\u001b[0;34m(\u001b[0m\u001b[0mshapes\u001b[0m\u001b[0;34m[\u001b[0m\u001b[0mi\u001b[0m\u001b[0;34m-\u001b[0m\u001b[0;36m1\u001b[0m\u001b[0;34m]\u001b[0m\u001b[0;34m,\u001b[0m\u001b[0mshapes\u001b[0m\u001b[0;34m[\u001b[0m\u001b[0mi\u001b[0m\u001b[0;34m]\u001b[0m\u001b[0;34m)\u001b[0m\u001b[0;34m)\u001b[0m\u001b[0;34m\u001b[0m\u001b[0;34m\u001b[0m\u001b[0m\n\u001b[1;32m     12\u001b[0m             \u001b[0mself\u001b[0m\u001b[0;34m.\u001b[0m\u001b[0mnetwork\u001b[0m\u001b[0;34m.\u001b[0m\u001b[0mappend\u001b[0m\u001b[0;34m(\u001b[0m\u001b[0mReLU\u001b[0m\u001b[0;34m(\u001b[0m\u001b[0;34m)\u001b[0m\u001b[0;34m)\u001b[0m\u001b[0;34m\u001b[0m\u001b[0;34m\u001b[0m\u001b[0m\n\u001b[0;32m---> 13\u001b[0;31m         \u001b[0mself\u001b[0m\u001b[0;34m.\u001b[0m\u001b[0mnetwork\u001b[0m\u001b[0;34m.\u001b[0m\u001b[0mappend\u001b[0m\u001b[0;34m(\u001b[0m\u001b[0mDense\u001b[0m\u001b[0;34m(\u001b[0m\u001b[0mshapes\u001b[0m\u001b[0;34m[\u001b[0m\u001b[0mi\u001b[0m\u001b[0;34m]\u001b[0m\u001b[0;34m,\u001b[0m\u001b[0mshapes\u001b[0m\u001b[0;34m[\u001b[0m\u001b[0;34m-\u001b[0m\u001b[0;36m1\u001b[0m\u001b[0;34m]\u001b[0m\u001b[0;34m)\u001b[0m\u001b[0;34m)\u001b[0m\u001b[0;34m\u001b[0m\u001b[0;34m\u001b[0m\u001b[0m\n\u001b[0m\u001b[1;32m     14\u001b[0m \u001b[0;34m\u001b[0m\u001b[0m\n\u001b[1;32m     15\u001b[0m     \u001b[0;32mdef\u001b[0m \u001b[0mforward\u001b[0m\u001b[0;34m(\u001b[0m\u001b[0mself\u001b[0m\u001b[0;34m,\u001b[0m \u001b[0mX\u001b[0m\u001b[0;34m)\u001b[0m\u001b[0;34m:\u001b[0m\u001b[0;34m\u001b[0m\u001b[0;34m\u001b[0m\u001b[0m\n",
            "\u001b[0;31mUnboundLocalError\u001b[0m: local variable 'i' referenced before assignment"
          ]
        }
      ]
    },
    {
      "cell_type": "markdown",
      "metadata": {
        "id": "ygud3NX3b-wN"
      },
      "source": [
        "## Έτοιμο Multi-Layer Perceptron \n",
        "\n",
        "Όπως και με τις τεχνικές των παραπάνω ερωτημάτων έτσι και εδώ υπάρχει έτοιμη η παραπάνω κλάση σε διάφορες βιβλιοθήκες. Έτσι στο δεύτερο μέρος του ερωτήματος αυτού θα κατασκευάσετε το ίδιο MLP χρησιμοποιώντας όμως την έτοιμη κλάση [MLPClassifier](https://scikit-learn.org/stable/modules/generated/sklearn.neural_network.MLPClassifier.html)  της βιβλιοθήκης scikit-learn. Παρακάτω παρουσιάζεται ένα παράδειγμα χρήσης της κλάσης αυτής. "
      ]
    },
    {
      "cell_type": "code",
      "metadata": {
        "id": "hltXBE2Vbojo"
      },
      "source": [
        "from sklearn.neural_network import MLPClassifier\n",
        "\n",
        "epochs = 25\n",
        "mlp = MLPClassifier(hidden_layer_sizes=(100, 200, 100), max_iter = epochs)\n",
        "\n",
        "mlp.fit(x_train,y_train)\n",
        "\n",
        "y_pred = mlp.predict(x_test)\n",
        "eval = Evaluate(y_test, y_pred, x_test)\n",
        "eval.get_evaluation_report()"
      ],
      "execution_count": null,
      "outputs": []
    },
    {
      "cell_type": "markdown",
      "metadata": {
        "id": "DOQYML9wcDBk"
      },
      "source": [
        "## Σύγκριση υλοποιήσεων \n",
        "\n",
        "  \n",
        "\n",
        "Στα παρακάτω κελιά πειραματιστείτε με τις δύο υλοποιήσεις (τη δική σας και την έτοιμη). Συγκρίνετε τα αποτελέσματά σας τόσο ως προς τους χρόνους εκτέλεσης αλλά και ως προς τα αποτελέσματα. Η διαφορά των αποτελεσμάτων προκύπτει από το ότι στην έτοιμη κλάση έχουν γίνει αρκετές βελτιστοποιήσεις στην λειτουργία, στον τρόπο εκπαίδευσης κ.α. με αποτέλεσμα να προκύπτουν καλύτερα αποτέλεσμα. Παρόλα αυτά στην δική μας κλάση έχουμε καλύτερο έλεγχο και έχουμε την δυνατότητα να σχεδιάσουμε πιο σύνθετες αρχιτεκτονικές καθώς να αλλάξουμε τις τιμές παραμέτρων που στην έτοιμη κλάση μπορεί να μην μας δίνεται η δυνατότητα. "
      ]
    },
    {
      "cell_type": "markdown",
      "metadata": {
        "id": "gfrx064gcCr8"
      },
      "source": [
        "# Αξιολόγηση- Συμπεράσματα \n",
        "\n",
        "  \n",
        "\n",
        "Τέλος στο σημείο αυτό καλείστε να αξιολογήσετε τις διάφορες τεχνικές ταξινόμησης (KNN, Naive Bayes, MLP), τα αποτελέσματά τους, τους χρόνους καθώς και να παραθέσετε παρατηρήσεις καθώς και οτιδήποτε σας φάνηκε ενδιαφέρον ή ιδιαίτερο. "
      ]
    }
  ]
}